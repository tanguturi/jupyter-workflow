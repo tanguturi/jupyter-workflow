{
 "cells": [
  {
   "cell_type": "code",
   "execution_count": 1,
   "metadata": {},
   "outputs": [],
   "source": [
    "\n",
    "import pandas as pd\n",
    "import numpy as np\n",
    "import string\n",
    "import pandas as pd\n",
    "import pickle\n",
    "from sklearn.cluster import KMeans,hierarchical,DBSCAN,AgglomerativeClustering"
   ]
  },
  {
   "cell_type": "code",
   "execution_count": 2,
   "metadata": {},
   "outputs": [],
   "source": [
    "df=pd.read_csv(\"..\\\\..\\\\reviews.csv\")"
   ]
  },
  {
   "cell_type": "code",
   "execution_count": 61,
   "metadata": {},
   "outputs": [],
   "source": []
  },
  {
   "cell_type": "code",
   "execution_count": null,
   "metadata": {},
   "outputs": [],
   "source": [
    "print(df.shape)\n",
    "df.dropna(inplace=True)\n",
    "df=df[df.Score != 3]\n",
    "positive_or_negative=lambda a: \"positive\" if ((type(a)== type(2)) and (a > 3)) else \"negative\"\n",
    "df['Score']=df['Score'].map(positive_or_negative)\n",
    "df= df[df.HelpfulnessNumerator<=df.HelpfulnessDenominator]\n",
    "df.shape"
   ]
  },
  {
   "cell_type": "code",
   "execution_count": 99,
   "metadata": {},
   "outputs": [
    {
     "name": "stdout",
     "output_type": "stream",
     "text": [
      "(364159, 10)\n"
     ]
    },
    {
     "data": {
      "text/plain": [
       "69.2616395288461"
      ]
     },
     "execution_count": 99,
     "metadata": {},
     "output_type": "execute_result"
    }
   ],
   "source": [
    "##soring data according product id\n",
    "df_sorted=df.sort_values('ProductId', axis=0, ascending=True, inplace=False, kind='quicksort', na_position='last')\n",
    "\n",
    "##deduplication of entries\n",
    "final=df_sorted.drop_duplicates(subset={\"UserId\",\"ProfileName\",\"Time\",\"Text\"}, keep='first', inplace=False)\n",
    "final=final[final.HelpfulnessNumerator<=final.HelpfulnessDenominator]\n",
    "\n",
    "\n",
    "print(final.shape)\n",
    "\n",
    "#check how much data is present, len(final['ProductId'])\n",
    "(final['ProductId'].size*1.0/df['ProductId'].size*1.0)*100"
   ]
  },
  {
   "cell_type": "code",
   "execution_count": null,
   "metadata": {},
   "outputs": [],
   "source": [
    "final['Score'].value_counts()"
   ]
  },
  {
   "cell_type": "code",
   "execution_count": 100,
   "metadata": {},
   "outputs": [
    {
     "name": "stdout",
     "output_type": "stream",
     "text": [
      "************************************\n",
      "tasti\n"
     ]
    }
   ],
   "source": [
    "##text processing\n",
    "import re\n",
    "import string\n",
    "import nltk\n",
    "from nltk.corpus import stopwords\n",
    "from nltk.stem import PorterStemmer\n",
    "from nltk.stem.wordnet import WordNetLemmatizer\n",
    "\n",
    "stop = set(stopwords.words('english')) #set of stopwords\n",
    "sno = nltk.stem.SnowballStemmer('english') #initialising the snowball stemmer\n",
    "\n",
    "#print(stop)\n",
    "print('************************************')\n",
    "print(sno.stem('tasty'))"
   ]
  },
  {
   "cell_type": "code",
   "execution_count": 102,
   "metadata": {},
   "outputs": [
    {
     "name": "stdout",
     "output_type": "stream",
     "text": [
      "(3642, 10)\n"
     ]
    }
   ],
   "source": [
    "final['Score'].value_counts()\n",
    "###taking sample\n",
    "final_sample= final.sample(frac=0.01)\n",
    "df_sorted=final_sample.sort_values('Time')\n",
    "print(df_sorted.shape)\n"
   ]
  },
  {
   "cell_type": "code",
   "execution_count": 103,
   "metadata": {},
   "outputs": [],
   "source": [
    "import re\n",
    "import string\n",
    "from nltk.corpus import stopwords\n",
    "from nltk.stem import PorterStemmer\n",
    "from nltk.stem.wordnet import WordNetLemmatizer\n",
    "from nltk.stem import SnowballStemmer\n",
    "# loading stop words from nltk library\n",
    "stop_words = set(stopwords.words('english'))\n",
    "sno = SnowballStemmer('english')"
   ]
  },
  {
   "cell_type": "code",
   "execution_count": 104,
   "metadata": {},
   "outputs": [
    {
     "data": {
      "text/html": [
       "<div>\n",
       "<style scoped>\n",
       "    .dataframe tbody tr th:only-of-type {\n",
       "        vertical-align: middle;\n",
       "    }\n",
       "\n",
       "    .dataframe tbody tr th {\n",
       "        vertical-align: top;\n",
       "    }\n",
       "\n",
       "    .dataframe thead th {\n",
       "        text-align: right;\n",
       "    }\n",
       "</style>\n",
       "<table border=\"1\" class=\"dataframe\">\n",
       "  <thead>\n",
       "    <tr style=\"text-align: right;\">\n",
       "      <th></th>\n",
       "      <th>Id</th>\n",
       "      <th>ProductId</th>\n",
       "      <th>UserId</th>\n",
       "      <th>ProfileName</th>\n",
       "      <th>HelpfulnessNumerator</th>\n",
       "      <th>HelpfulnessDenominator</th>\n",
       "      <th>Score</th>\n",
       "      <th>Time</th>\n",
       "      <th>Summary</th>\n",
       "      <th>Text</th>\n",
       "      <th>newText</th>\n",
       "    </tr>\n",
       "  </thead>\n",
       "  <tbody>\n",
       "    <tr>\n",
       "      <th>149767</th>\n",
       "      <td>149768</td>\n",
       "      <td>B00004S1C5</td>\n",
       "      <td>A7P76IGRZZBFJ</td>\n",
       "      <td>E. Thompson \"Soooooper Genius\"</td>\n",
       "      <td>18</td>\n",
       "      <td>18</td>\n",
       "      <td>positive</td>\n",
       "      <td>975974400</td>\n",
       "      <td>Who Needs Wilton?</td>\n",
       "      <td>I'm sick of scads of nasty toothpicks all over...</td>\n",
       "      <td>NaN</td>\n",
       "    </tr>\n",
       "  </tbody>\n",
       "</table>\n",
       "</div>"
      ],
      "text/plain": [
       "            Id   ProductId         UserId                     ProfileName  \\\n",
       "149767  149768  B00004S1C5  A7P76IGRZZBFJ  E. Thompson \"Soooooper Genius\"   \n",
       "\n",
       "        HelpfulnessNumerator  HelpfulnessDenominator     Score       Time  \\\n",
       "149767                    18                      18  positive  975974400   \n",
       "\n",
       "                  Summary                                               Text  \\\n",
       "149767  Who Needs Wilton?  I'm sick of scads of nasty toothpicks all over...   \n",
       "\n",
       "        newText  \n",
       "149767      NaN  "
      ]
     },
     "execution_count": 104,
     "metadata": {},
     "output_type": "execute_result"
    }
   ],
   "source": [
    "df_sorted['newText']=np.nan\n",
    "df_sorted.head(1)"
   ]
  },
  {
   "cell_type": "code",
   "execution_count": 105,
   "metadata": {},
   "outputs": [],
   "source": [
    "def nlp_preprocessing(total_text, index, column):\n",
    "    if type(total_text) is not int:\n",
    "        string = \"\"\n",
    "        final_string=\"\"\n",
    "        # replace every special char with space\n",
    "        total_text = re.sub('[^a-zA-Z0-9\\n]', ' ', total_text)\n",
    "        # replace multiple spaces with single space\n",
    "        total_text = re.sub('\\s+',' ', total_text)\n",
    "        # converting all the chars into lower-case.\n",
    "        total_text = total_text.lower()\n",
    "        \n",
    "        for word in total_text.split():\n",
    "        # if the word is a not a stop word then retain that word from the data\n",
    "            if not word in stop_words:\n",
    "                #word=sno(word)\n",
    "                string += word + \" \"\n",
    "        \n",
    "        df_sorted.loc[index,column] = string\n",
    "        #print(string)\n",
    "        #final_string.append(string)"
   ]
  },
  {
   "cell_type": "code",
   "execution_count": 106,
   "metadata": {},
   "outputs": [],
   "source": [
    "df_sorted['NewText']=None\n",
    "##slicing for simplicity\n",
    "#df_sorted=df_sorted.iloc[0:100,:]\n",
    "for index, row in df_sorted.iterrows():\n",
    "    nlp_preprocessing(df_sorted['Text'][index], index, 'NewText')"
   ]
  },
  {
   "cell_type": "code",
   "execution_count": 107,
   "metadata": {},
   "outputs": [],
   "source": [
    "def sent_vect(list_of_sent):\n",
    "    sent_vectors = []; # the avg-w2v for each sentence/review is stored in this list\n",
    "    for sent in list_of_sent: # for each review/sentence\n",
    "        sent_vec = np.zeros(50) # as word vectors are of zero length\n",
    "        cnt_words =0; # num of words with a valid vector in the sentence/review\n",
    "        for word in sent: # for each word in a review/sentence\n",
    "            try:\n",
    "                vec = w2v_model.wv[word]\n",
    "                sent_vec += vec\n",
    "                cnt_words += 1\n",
    "            except:\n",
    "                pass\n",
    "        sent_vec /= cnt_words\n",
    "        sent_vectors.append(sent_vec)\n",
    "    print(len(sent_vectors))\n",
    "    print(len(sent_vectors[0]))\n",
    "    return sent_vectors"
   ]
  },
  {
   "cell_type": "code",
   "execution_count": 108,
   "metadata": {},
   "outputs": [
    {
     "name": "stdout",
     "output_type": "stream",
     "text": [
      "['biting', 'touch', 'cranberry', 'soothing', 'flavor', 'aroma', 'apple', 'reminiscent', 'cranberry', 'cocktail', 'served', 'cold', 'great', 'flavored', 'iced', 'tea', 'hot', 'flake', 'cinnamon', 'drift', 'la', 'la', 'land', 'consume', 'near', 'zero', 'calorie', 'apple', 'pie', 'stuff', 'good']\n",
      "3642\n",
      "(3642,)\n"
     ]
    }
   ],
   "source": [
    "##split sentenses to list\n",
    "list_of_sent=[]\n",
    "def list_sentense(df_sorted):\n",
    "    for sent in df_sorted['NewText'].values:\n",
    "        sentence=sent.split()\n",
    "        list_of_sent.append(sentence)\n",
    "    return list_of_sent\n",
    "\n",
    "list_sentenses=list_sentense(df_sorted)\n",
    "print(list_sentenses[2])\n",
    "print(len(list_sentenses))\n",
    "print(df_sorted['NewText'].shape)\n"
   ]
  },
  {
   "cell_type": "code",
   "execution_count": 110,
   "metadata": {},
   "outputs": [],
   "source": [
    "##creating our own word2vec model\n",
    "import gensim\n",
    "from gensim.models import Word2Vec\n",
    "from gensim.models import KeyedVectors\n",
    "import pickle\n",
    "w2v_model=gensim.models.Word2Vec(list_sentenses,min_count=5,size=50, workers=4)"
   ]
  },
  {
   "cell_type": "code",
   "execution_count": 111,
   "metadata": {},
   "outputs": [
    {
     "name": "stdout",
     "output_type": "stream",
     "text": [
      "3642\n"
     ]
    },
    {
     "data": {
      "text/html": [
       "<div>\n",
       "<style scoped>\n",
       "    .dataframe tbody tr th:only-of-type {\n",
       "        vertical-align: middle;\n",
       "    }\n",
       "\n",
       "    .dataframe tbody tr th {\n",
       "        vertical-align: top;\n",
       "    }\n",
       "\n",
       "    .dataframe thead th {\n",
       "        text-align: right;\n",
       "    }\n",
       "</style>\n",
       "<table border=\"1\" class=\"dataframe\">\n",
       "  <thead>\n",
       "    <tr style=\"text-align: right;\">\n",
       "      <th></th>\n",
       "      <th>Id</th>\n",
       "      <th>ProductId</th>\n",
       "      <th>UserId</th>\n",
       "      <th>ProfileName</th>\n",
       "      <th>HelpfulnessNumerator</th>\n",
       "      <th>HelpfulnessDenominator</th>\n",
       "      <th>Score</th>\n",
       "      <th>Time</th>\n",
       "      <th>Summary</th>\n",
       "      <th>Text</th>\n",
       "      <th>newText</th>\n",
       "      <th>NewText</th>\n",
       "      <th>list_Sentenses</th>\n",
       "    </tr>\n",
       "  </thead>\n",
       "  <tbody>\n",
       "    <tr>\n",
       "      <th>149767</th>\n",
       "      <td>149768</td>\n",
       "      <td>B00004S1C5</td>\n",
       "      <td>A7P76IGRZZBFJ</td>\n",
       "      <td>E. Thompson \"Soooooper Genius\"</td>\n",
       "      <td>18</td>\n",
       "      <td>18</td>\n",
       "      <td>positive</td>\n",
       "      <td>975974400</td>\n",
       "      <td>Who Needs Wilton?</td>\n",
       "      <td>I'm sick of scads of nasty toothpicks all over...</td>\n",
       "      <td>NaN</td>\n",
       "      <td>sick scads nasty toothpicks counter tinting ic...</td>\n",
       "      <td>[sick, scads, nasty, toothpicks, counter, tint...</td>\n",
       "    </tr>\n",
       "  </tbody>\n",
       "</table>\n",
       "</div>"
      ],
      "text/plain": [
       "            Id   ProductId         UserId                     ProfileName  \\\n",
       "149767  149768  B00004S1C5  A7P76IGRZZBFJ  E. Thompson \"Soooooper Genius\"   \n",
       "\n",
       "        HelpfulnessNumerator  HelpfulnessDenominator     Score       Time  \\\n",
       "149767                    18                      18  positive  975974400   \n",
       "\n",
       "                  Summary                                               Text  \\\n",
       "149767  Who Needs Wilton?  I'm sick of scads of nasty toothpicks all over...   \n",
       "\n",
       "        newText                                            NewText  \\\n",
       "149767      NaN  sick scads nasty toothpicks counter tinting ic...   \n",
       "\n",
       "                                           list_Sentenses  \n",
       "149767  [sick, scads, nasty, toothpicks, counter, tint...  "
      ]
     },
     "execution_count": 111,
     "metadata": {},
     "output_type": "execute_result"
    }
   ],
   "source": [
    "print(len(list_sentenses))\n",
    "df_sorted.shape\n",
    "df_sorted['list_Sentenses']=list_sentenses\n",
    "df_sorted.head(1)"
   ]
  },
  {
   "cell_type": "code",
   "execution_count": 115,
   "metadata": {},
   "outputs": [
    {
     "name": "stdout",
     "output_type": "stream",
     "text": [
      "247400\n"
     ]
    },
    {
     "data": {
      "text/plain": [
       "['got received',\n",
       " 'got received compliments',\n",
       " 'got replacement',\n",
       " 'got replacement little',\n",
       " 'got responses',\n",
       " 'got responses sour',\n",
       " 'got reviews',\n",
       " 'got reviews minute',\n",
       " 'got rid',\n",
       " 'got rid soon']"
      ]
     },
     "execution_count": 115,
     "metadata": {},
     "output_type": "execute_result"
    }
   ],
   "source": [
    "from sklearn.feature_extraction.text import TfidfVectorizer\n",
    "tf_idf_vect = TfidfVectorizer(ngram_range=(1,3))\n",
    "tf_idf = tf_idf_vect.fit_transform(df_sorted['NewText'].values)\n",
    "tfidf_feat = tf_idf_vect.get_feature_names()\n",
    "print(len(tfidf_feat))\n",
    "tfidf_feat[100000:100010]"
   ]
  },
  {
   "cell_type": "markdown",
   "metadata": {},
   "source": [
    "# KMeans############"
   ]
  },
  {
   "cell_type": "code",
   "execution_count": 121,
   "metadata": {},
   "outputs": [],
   "source": [
    "from sklearn.cluster import KMeans\n",
    "Sum_of_squared_distances=[]\n",
    "n_clusters_range=list(range(1,10))\n",
    "for i in n_clusters_range:\n",
    "    kmeans=KMeans(n_clusters=i)\n",
    "    kmeans.fit(tf_idf)\n",
    "    Sum_of_squared_distances.append(kmeans.inertia_)"
   ]
  },
  {
   "cell_type": "code",
   "execution_count": 129,
   "metadata": {},
   "outputs": [
    {
     "data": {
      "image/png": "[encoded data removed]",
      "text/plain": [
       "<Figure size 432x288 with 1 Axes>"
      ]
     },
     "metadata": {},
     "output_type": "display_data"
    }
   ],
   "source": [
    "n_clusters_range=list(range(1,10))\n",
    "plt.plot(n_clusters_range, Sum_of_squared_distances, 'bx-')\n",
    "plt.xlabel('k')\n",
    "plt.ylabel('Sum_of_squared_distances')\n",
    "plt.title('Elbow Method For Optimal k')\n",
    "plt.show()"
   ]
  },
  {
   "cell_type": "code",
   "execution_count": 134,
   "metadata": {},
   "outputs": [],
   "source": [
    "optimal_clusters=n_clusters_range[np.argmin(Sum_of_squared_distances)]"
   ]
  },
  {
   "cell_type": "code",
   "execution_count": 135,
   "metadata": {},
   "outputs": [
    {
     "data": {
      "text/plain": [
       "KMeans(algorithm='auto', copy_x=True, init='k-means++', max_iter=300,\n",
       "    n_clusters=8, n_init=10, n_jobs=1, precompute_distances='auto',\n",
       "    random_state=None, tol=0.0001, verbose=0)"
      ]
     },
     "execution_count": 135,
     "metadata": {},
     "output_type": "execute_result"
    }
   ],
   "source": [
    "kmeans=KMeans(n_clusters=optimal_clusters)\n",
    "kmeans.fit(tf_idf)"
   ]
  },
  {
   "cell_type": "code",
   "execution_count": 136,
   "metadata": {},
   "outputs": [
    {
     "data": {
      "text/plain": [
       "array([1, 1, 3, ..., 1, 1, 4])"
      ]
     },
     "execution_count": 136,
     "metadata": {},
     "output_type": "execute_result"
    }
   ],
   "source": [
    "kmeans.labels_"
   ]
  },
  {
   "cell_type": "code",
   "execution_count": 195,
   "metadata": {},
   "outputs": [
    {
     "data": {
      "text/plain": [
       "array([0, 1, 2, 3, 4, 5, 6, 7])"
      ]
     },
     "execution_count": 195,
     "metadata": {},
     "output_type": "execute_result"
    }
   ],
   "source": [
    "df_sorted['labels']=kmeans.labels_\n",
    "np.unique(kmeans.labels_)"
   ]
  },
  {
   "cell_type": "code",
   "execution_count": 143,
   "metadata": {},
   "outputs": [
    {
     "data": {
      "text/html": [
       "<div>\n",
       "<style scoped>\n",
       "    .dataframe tbody tr th:only-of-type {\n",
       "        vertical-align: middle;\n",
       "    }\n",
       "\n",
       "    .dataframe tbody tr th {\n",
       "        vertical-align: top;\n",
       "    }\n",
       "\n",
       "    .dataframe thead th {\n",
       "        text-align: right;\n",
       "    }\n",
       "</style>\n",
       "<table border=\"1\" class=\"dataframe\">\n",
       "  <thead>\n",
       "    <tr style=\"text-align: right;\">\n",
       "      <th></th>\n",
       "      <th>Id</th>\n",
       "      <th>ProductId</th>\n",
       "      <th>UserId</th>\n",
       "      <th>ProfileName</th>\n",
       "      <th>HelpfulnessNumerator</th>\n",
       "      <th>HelpfulnessDenominator</th>\n",
       "      <th>Score</th>\n",
       "      <th>Time</th>\n",
       "      <th>Summary</th>\n",
       "      <th>Text</th>\n",
       "      <th>newText</th>\n",
       "      <th>NewText</th>\n",
       "      <th>list_Sentenses</th>\n",
       "      <th>labels</th>\n",
       "    </tr>\n",
       "  </thead>\n",
       "  <tbody>\n",
       "    <tr>\n",
       "      <th>149767</th>\n",
       "      <td>149768</td>\n",
       "      <td>B00004S1C5</td>\n",
       "      <td>A7P76IGRZZBFJ</td>\n",
       "      <td>E. Thompson \"Soooooper Genius\"</td>\n",
       "      <td>18</td>\n",
       "      <td>18</td>\n",
       "      <td>positive</td>\n",
       "      <td>975974400</td>\n",
       "      <td>Who Needs Wilton?</td>\n",
       "      <td>I'm sick of scads of nasty toothpicks all over...</td>\n",
       "      <td>NaN</td>\n",
       "      <td>sick scads nasty toothpicks counter tinting ic...</td>\n",
       "      <td>[sick, scads, nasty, toothpicks, counter, tint...</td>\n",
       "      <td>1</td>\n",
       "    </tr>\n",
       "  </tbody>\n",
       "</table>\n",
       "</div>"
      ],
      "text/plain": [
       "            Id   ProductId         UserId                     ProfileName  \\\n",
       "149767  149768  B00004S1C5  A7P76IGRZZBFJ  E. Thompson \"Soooooper Genius\"   \n",
       "\n",
       "        HelpfulnessNumerator  HelpfulnessDenominator     Score       Time  \\\n",
       "149767                    18                      18  positive  975974400   \n",
       "\n",
       "                  Summary                                               Text  \\\n",
       "149767  Who Needs Wilton?  I'm sick of scads of nasty toothpicks all over...   \n",
       "\n",
       "        newText                                            NewText  \\\n",
       "149767      NaN  sick scads nasty toothpicks counter tinting ic...   \n",
       "\n",
       "                                           list_Sentenses  labels  \n",
       "149767  [sick, scads, nasty, toothpicks, counter, tint...       1  "
      ]
     },
     "execution_count": 143,
     "metadata": {},
     "output_type": "execute_result"
    }
   ],
   "source": [
    "df_sorted.head(1)"
   ]
  },
  {
   "cell_type": "code",
   "execution_count": 196,
   "metadata": {},
   "outputs": [],
   "source": [
    "label1=df_sorted['Text'].loc[df_sorted['labels']==1].values\n",
    "label2=df_sorted['Text'].loc[df_sorted['labels']==2].values\n",
    "label3=df_sorted['Text'].loc[df_sorted['labels']==3].values\n",
    "label4=df_sorted['Text'].loc[df_sorted['labels']==4].values\n",
    "label5=df_sorted['Text'].loc[df_sorted['labels']==5].values\n",
    "label6=df_sorted['Text'].loc[df_sorted['labels']==6].values\n",
    "label7=df_sorted['Text'].loc[df_sorted['labels']==7].values\n"
   ]
  },
  {
   "cell_type": "code",
   "execution_count": 179,
   "metadata": {},
   "outputs": [
    {
     "name": "stdout",
     "output_type": "stream",
     "text": [
      "Ok folks, this is not a joke.  I am a real fan of hot sauce, hot peppers and anything that makes my eyes water, and I have to honestly say that Dave's Insanity Sauce is absolutely the hottest thing I've ever tasted.  I use one drop in about 25 ounces of home-made tomato sauce and it makes the sauce noticibly hot.  This is NOT a sauce to dash into your soup or to liven up some salsa.  DON'T USE IT LIKE TABASCO!!!  It is a heavy-duty hot sauce that should be used as in ingredient when cooking a decent amount of a dish.  My brother doubted its powers so I poked the end of a toothpick into the sauce and gave it to him.  The poor guy freaked and ate more Italian bread than I've ever seen anyone eat in my life.  This bottle will last you a long time.  Why doesn't it get 5 stars?  It's just too hot.\n",
      "**********\n",
      "I think that some people have complained that this popcorn is bland, but that's what it's supposed to be.... It's a product that is as healthy as you want it to be- you decide. :)  Although I do like to add salt, I have found that I don't really care to add a lot of other flavors to it.  This is probably because my mom used to air-pop popcorn when we were kids (and add her own flavors) and it kind of reminds me of that.  I guess she didn't add very much. :)  It seems to \"pop\" better than other varieties I've tried and it doesn't leave you with greasy fingers.  Good job, Newman.\n",
      "**********\n",
      "I fed and recommended this food for several years as one of the best dry foods available. However, over the last few months (late 2007) something has changed.  My dogs experienced chronic digestive upset on the food and refused to eat it.  Upon switching to another quality food, the problems stopped.  I tried another bag last week-- same results.  Other dog owners/breeders/vets/handlers have also reported problems with Canidae foods over the past few months.  No one, including myself, has been successful in getting any sort of satisfactory reply from Canidae when asked if they had changed formulas, ingredient suppliers, etc. I'm disappointed-- Canidae was one of the few 'quality foods' that had not raised prices significantly over the past year and was still affordable for most dog owners.  Apparently that has also led to changes that the company has not been willing to address.  I'm very disappointed that a food I recommended so highly in the past has had these problems.  I've changed my dogs to Eagle Pack Holistic Selects. It's more expensive, but they are back to their old selves-- healthy, no digestive troubles, and great coats.\n"
     ]
    }
   ],
   "source": [
    "print(label1[1],label1[21],label1[56],sep=\"\\n**********\\n\")"
   ]
  },
  {
   "cell_type": "code",
   "execution_count": 218,
   "metadata": {},
   "outputs": [
    {
     "name": "stdout",
     "output_type": "stream",
     "text": [
      "Don't be fooled by the simple packaging of this mixed spice. This is not a simple flavor.<br /><br />If you like the steaks served at a certain \"Australian\" styled steak house you may well like this seasoning. A friend of mine introduced it to me at a little cook out, where he rubbed a generous amount on some new york strip cuts and grilled, and I fell in love. He then told me that this was the above mentioned steak house's secret seasoning for it's steaks, him claiming to know this by having worked their for a time. I know he had worked at just about every chain restaurant at some point, but that's about all I can confirm in regards to this rumor one way or the other as I've never had a steak there, nor worked at one. Regardless of the truthfullness of that statement, I can firmly attest to fact that this is an excellent mixed spice.<br /><br />I've used it on just about every type of meat except sea food, though I suspect it would be good on that too, with a noteable preformance on eggs. It is mildly spicey and fairly salty, but not overpowering unless you really load up.<br /><br />Reminds me of cajun seasonings in simular packaging, but is not as \"hot\". I highly recommend a good cut of beef, pan fried in olive oil with a generous amount of Cavender's Greek Seasoning rubbed in.<br /><br />It is also priced very well, and one container is more then enough to last a while. If you for some reason don't love it, you won't be out very much money and if you end up loving it as much as I do, you'll have plenty of it to last you a long time. A seasoning every kitchen should have!\n",
      "**********\n",
      "Bought a bag of this, hoping to get my cat away from the grains, rotten meat and other garbage in most commercial cat food. My cat has never been finicky, but she wants nothing to do with this food. I even tried another reviewer's idea of putting the food through the food processor with a bit of water, but the cat smelled it and still didn't want it. The search for a better cat food product continues. I gave it 2 stars only because it's a cat-health conscious product, but maybe it should be 1 star since my cat won't eat it.\n",
      "**********\n",
      "I was not expecting these nuts to be so good.  They are wonderful.  Will buy again! Try them.  The taste is a very light cinnamon apple.  Perfect eaten straight out of the bag, or even better if paired with yogurt and fresh fruit.\n"
     ]
    }
   ],
   "source": [
    "print(label2[5],label1[101],label1[150],sep=\"\\n**********\\n\")"
   ]
  },
  {
   "cell_type": "code",
   "execution_count": 199,
   "metadata": {},
   "outputs": [
    {
     "name": "stdout",
     "output_type": "stream",
     "text": [
      "Despite the fact that the \"nutritional information\" on Amazon states that this product is only herring, water, and salt, the cans state that GLUTEN is part of the deal.  I am feeding my cans to my dogs, who incidentally love the flavor.<br />BTW, what the hell is gluten doing in a can of fish?\n",
      "**********\n",
      "My husband and I have an intense exercise routine and these coconut water drinks are really refreshing afterwards.  The passion fruit flavor is not as sweet as the pinapple, but still tastes fruity.\n",
      "**********\n",
      "I purchased these because the picture on the package looked really good.  You would not believe how awful they are.  If you are set on buying them, you will soon find out. The amount of cake you mix up looks like a tablespoon of cake batter and these have trans fat in them.  They taste awful and do absolutely nothing to satisfy a chocolate lover.<br /><br />There is nothing in them.  Waste of money.\n",
      "**********\n",
      "The Ener-G Foods English muffins look good in the packaging, but something in them makes them mushy on the bottom.  This presents a gooy feel in the mouth, and both my husband and I got stomach aches.  Won't be buying this again.\n"
     ]
    }
   ],
   "source": [
    "print(label4[56],label1[44],label1[222],label1[122],sep=\"\\n**********\\n\")"
   ]
  },
  {
   "cell_type": "code",
   "execution_count": 185,
   "metadata": {},
   "outputs": [
    {
     "name": "stdout",
     "output_type": "stream",
     "text": [
      "You can't go wrong with this [[ASIN:B001E5E0D8 Lavazza Crema e Gusto Ground Coffee, Italian Espresso, 8.8-Ounce Bricks (Pack of 4).  Nice espresso flavor, naturally sweet and mild.  It's our favorite everyday espresso  for  morning lattes or an occasional Americano, a nice consistent crema.  And really, you can't beat the Subscribe and Save Program!!  We've tried Lavazza Blu (a chocolate taste) and came back to this.<br /><br />After opening the vacuum sealed package, I transfer the ground espresso to a French (clip top)mason jar, and store in the refrigerator as recommended by the company.  I take out just enough for our two shots and put the jar right back into the fridge--it stays tasting fresh to the last cuppa:~)Delicious!!\n",
      "**********\n",
      "I got a few bags of Weaver's Coffee as a gift.  I usually never do reviews but here I am chugging a cup of Weaver's Peru Organic and I just had to write something about this amazing product.  My husband and I are now addicted to this coffee.  It has no bitter after taste and is super smooth. Excellent value.  So glad I can buy it at Amazon.\n",
      "**********\n",
      "Being born and bred in Brooklyn but now living upstate NY, of course we had to try this product.  Short and sweet, the coffee is good but the packaging is horrible, every two to three cups comes loaded with grinds.  Don't plan to order again.  Gave two stars only because few cups without the grinds were good.  We now put a tea strainer on the cup when brewing.<br /><br />PM - just heard from a friend who also ordered coffee a short time after we did.  I had written to see if they had any problems and they did not so I felt I needed to be fair and come back to edit my post to include their comment.  We both agree, however, that the coffee is good.<br /><br />6/11/12:  I know I am not the only only customer who had communication with Brooklyn Bean Roastery and I admire the fact that in true Brooklyn style, they stepped up, admitted there was a problem then made good and ensured it was corrected.  However, I am rewriting this review based ON THE COFFEE not the fact that the manufacturer replaced my original order and included some samples of the other blends.  As I said in my original review, the coffee was good without the grinds, now not having to deal with straining the coffee, we are truly enjoying it and have decided to replace our usual breakfast blend with BBR's Breakfast Blend.  We have been very pleased with all the samplers tasted.  Thank you for for giving us the opportunity to change our minds and truly enjoy the coffee.  BBR Rocks!\n"
     ]
    }
   ],
   "source": [
    "print(label5[99],label5[122],label5[211],sep=\"\\n**********\\n\")"
   ]
  },
  {
   "cell_type": "code",
   "execution_count": 186,
   "metadata": {},
   "outputs": [
    {
     "name": "stdout",
     "output_type": "stream",
     "text": [
      "I have baked this many times in my Breadman with none of the issues the other reviewers had.  Turns our GREAT every time and tastes wonderful.\n",
      "**********\n",
      "This item was well packaged and arrived safely and would still look great had my roommate remembered to water it.  It's coming back though which speaks well for the trees general health.\n",
      "**********\n",
      "Really enjoy this drink, it works just great!!! And has a nice calming effect.  Great to have after a hard day's work!!!\n"
     ]
    }
   ],
   "source": [
    "print(label6[167],label6[58],label6[278],sep=\"\\n**********\\n\")"
   ]
  },
  {
   "cell_type": "code",
   "execution_count": 203,
   "metadata": {},
   "outputs": [
    {
     "name": "stdout",
     "output_type": "stream",
     "text": [
      "This was a great buy on Peter Pan Peanut Butter.  I received my purchase in 2 days.  There is no reason to purchase elsewhere.  <a href=\"http://www.amazon.com/gp/product/B00295IGHS\">Peter Pan Creamy Peanut Butter, 40-Ounce Jars (Pack of 3)</a>\n",
      "**********\n",
      "<a href=\"http://www.amazon.com/gp/product/B000F4DKAI\">Twinings English Afternoon Tea, Tea Bags, 20-Count, 1.41 oz. Boxes (Pack of 6)</a><br /><br />This tea is not just for the afternoon. A smoothe mellow tea good anytime of the day and year.  No bitter taste even when it gets cold.  Doesn't even really need  sweetner of any type.\n",
      "**********\n",
      "<a href=\"http://www.amazon.com/gp/product/B000K8ESBO\">Flavour Creations Coffee Flavoring Tablets, French Vanilla, 48-Count Dispensers (Pack of 6)</a>Excellent product -- highly recommend.  Used for more than 3 years and am finding it harder and harder to find.\n"
     ]
    }
   ],
   "source": [
    "print(label7[71],label7[36],label7[10],sep=\"\\n**********\\n\")"
   ]
  },
  {
   "cell_type": "code",
   "execution_count": 194,
   "metadata": {},
   "outputs": [
    {
     "data": {
      "text/plain": [
       "array([0, 1, 2, 3, 4, 5, 6, 7])"
      ]
     },
     "execution_count": 194,
     "metadata": {},
     "output_type": "execute_result"
    }
   ],
   "source": [
    "label1=df_sorted['Text'].loc[df_sorted['labels']==1].values\n",
    "label2=df_sorted['Text'].loc[df_sorted['labels']==2].values\n",
    "label3=df_sorted['Text'].loc[df_sorted['labels']==3].values\n",
    "label4=df_sorted['Text'].loc[df_sorted['labels']==4].values\n",
    "label5=df_sorted['Text'].loc[df_sorted['labels']==5].values\n",
    "label6=df_sorted['Text'].loc[df_sorted['labels']==6].values\n",
    "label7=df_sorted['Text'].loc[df_sorted['labels']==7].values"
   ]
  },
  {
   "cell_type": "code",
   "execution_count": 262,
   "metadata": {},
   "outputs": [],
   "source": [
    "df_sorted['kmeans_review']=np.nan\n"
   ]
  },
  {
   "cell_type": "code",
   "execution_count": 264,
   "metadata": {},
   "outputs": [],
   "source": [
    "df_sorted.loc[df_sorted.labels == 4  , 'kmeans_review'] = \"negative\"\n",
    "df_sorted.loc[df_sorted.labels == 2 ,  'kmeans_review'] = \"negative\"\n",
    "\n"
   ]
  },
  {
   "cell_type": "code",
   "execution_count": 265,
   "metadata": {},
   "outputs": [],
   "source": [
    "df_sorted['kmeans_review']=df_sorted['kmeans_review'].map(lambda x: \"positive\" if (x != \"negative\") else x)"
   ]
  },
  {
   "cell_type": "code",
   "execution_count": 266,
   "metadata": {},
   "outputs": [
    {
     "data": {
      "text/plain": [
       "positive    2889\n",
       "negative     753\n",
       "Name: kmeans_review, dtype: int64"
      ]
     },
     "execution_count": 266,
     "metadata": {},
     "output_type": "execute_result"
    }
   ],
   "source": [
    "df_sorted.kmeans_review.value_counts() "
   ]
  },
  {
   "cell_type": "code",
   "execution_count": 215,
   "metadata": {},
   "outputs": [
    {
     "data": {
      "text/plain": [
       "positive    3068\n",
       "negative     574\n",
       "Name: Score, dtype: int64"
      ]
     },
     "execution_count": 215,
     "metadata": {},
     "output_type": "execute_result"
    }
   ],
   "source": [
    "df_sorted.Score.value_counts()"
   ]
  },
  {
   "cell_type": "markdown",
   "metadata": {},
   "source": [
    "# AgglomerativeClustering###"
   ]
  },
  {
   "cell_type": "code",
   "execution_count": 283,
   "metadata": {},
   "outputs": [
    {
     "name": "stdout",
     "output_type": "stream",
     "text": [
      "(499, 15)\n"
     ]
    },
    {
     "data": {
      "text/plain": [
       "positive    426\n",
       "negative     73\n",
       "Name: Score, dtype: int64"
      ]
     },
     "execution_count": 283,
     "metadata": {},
     "output_type": "execute_result"
    }
   ],
   "source": [
    "small_df=df_sorted.iloc[1:500]\n",
    "print(small_df.shape)\n",
    "small_df.Score.value_counts()"
   ]
  },
  {
   "cell_type": "code",
   "execution_count": 284,
   "metadata": {},
   "outputs": [
    {
     "name": "stdout",
     "output_type": "stream",
     "text": [
      "36289\n"
     ]
    },
    {
     "data": {
      "text/plain": [
       "[]"
      ]
     },
     "execution_count": 284,
     "metadata": {},
     "output_type": "execute_result"
    }
   ],
   "source": [
    "from sklearn.feature_extraction.text import TfidfVectorizer\n",
    "tf_idf_vect = TfidfVectorizer(ngram_range=(1,3))\n",
    "tf_idf = tf_idf_vect.fit_transform(small_df['NewText'].values)\n",
    "tfidf_feat = tf_idf_vect.get_feature_names()\n",
    "print(len(tfidf_feat))\n",
    "tfidf_feat[100000:100010]"
   ]
  },
  {
   "cell_type": "code",
   "execution_count": 286,
   "metadata": {},
   "outputs": [
    {
     "data": {
      "text/plain": [
       "AgglomerativeClustering(affinity='euclidean', compute_full_tree='auto',\n",
       "            connectivity=None, linkage='ward', memory=None, n_clusters=2,\n",
       "            pooling_func=<function mean at 0x0000023AA629C9D8>)"
      ]
     },
     "execution_count": 286,
     "metadata": {},
     "output_type": "execute_result"
    }
   ],
   "source": [
    "from sklearn.cluster import AgglomerativeClustering\n",
    "AgglCluster=AgglomerativeClustering(n_clusters=2)\n",
    "AgglCluster.fit(tf_idf.toarray())\n",
    "    "
   ]
  },
  {
   "cell_type": "code",
   "execution_count": 288,
   "metadata": {},
   "outputs": [
    {
     "data": {
      "text/plain": [
       "array([0, 0, 0, 0, 0, 0, 0, 1, 0, 1, 0, 0, 0, 0, 0, 0, 1, 0, 0, 0, 0, 0,\n",
       "       0, 1, 0, 0, 0, 0, 0, 0, 0, 1, 0, 0, 0, 0, 0, 1, 0, 0, 0, 1, 0, 0,\n",
       "       0, 0, 0, 0, 0, 1, 0, 0, 0, 0, 0, 0, 0, 0, 0, 0, 0, 0, 0, 0, 0, 0,\n",
       "       0, 0, 0, 0, 0, 0, 0, 0, 0, 0, 0, 0, 0, 1, 0, 0, 0, 1, 0, 0, 0, 0,\n",
       "       0, 0, 0, 0, 0, 0, 0, 0, 1, 0, 0, 0, 0, 0, 0, 0, 0, 1, 0, 0, 0, 0,\n",
       "       0, 0, 0, 0, 0, 0, 1, 0, 0, 1, 1, 0, 0, 0, 0, 0, 0, 0, 0, 0, 0, 0,\n",
       "       0, 0, 0, 0, 0, 0, 0, 0, 0, 0, 0, 0, 1, 0, 0, 0, 0, 0, 0, 0, 0, 0,\n",
       "       0, 0, 0, 0, 1, 0, 0, 0, 0, 0, 0, 0, 0, 0, 0, 0, 0, 0, 0, 0, 1, 0,\n",
       "       0, 1, 0, 0, 0, 0, 0, 0, 0, 1, 0, 0, 1, 0, 0, 0, 0, 0, 1, 0, 0, 0,\n",
       "       0, 0, 0, 0, 0, 0, 0, 0, 0, 0, 0, 0, 0, 0, 0, 1, 0, 0, 0, 0, 0, 0,\n",
       "       1, 0, 0, 0, 0, 0, 0, 0, 0, 0, 1, 0, 0, 0, 0, 0, 0, 0, 0, 0, 0, 0,\n",
       "       0, 0, 0, 0, 0, 0, 0, 0, 0, 0, 0, 0, 0, 0, 0, 0, 0, 0, 0, 0, 0, 0,\n",
       "       0, 0, 0, 0, 0, 0, 1, 0, 0, 0, 0, 0, 0, 0, 0, 0, 0, 0, 0, 0, 0, 0,\n",
       "       0, 0, 0, 0, 0, 0, 0, 0, 1, 0, 0, 0, 0, 0, 0, 1, 0, 0, 0, 0, 0, 0,\n",
       "       0, 0, 1, 0, 0, 0, 0, 0, 0, 0, 0, 0, 0, 0, 0, 0, 0, 0, 0, 0, 0, 0,\n",
       "       0, 0, 0, 1, 0, 0, 0, 0, 0, 0, 0, 0, 0, 0, 0, 0, 0, 0, 0, 0, 0, 0,\n",
       "       0, 0, 0, 0, 0, 1, 0, 0, 0, 0, 1, 0, 0, 0, 0, 0, 0, 0, 0, 0, 0, 0,\n",
       "       0, 0, 0, 0, 0, 0, 0, 1, 1, 0, 0, 0, 1, 0, 0, 0, 0, 0, 0, 0, 0, 0,\n",
       "       1, 0, 0, 0, 0, 0, 0, 0, 0, 0, 0, 0, 0, 0, 0, 0, 0, 0, 0, 0, 0, 0,\n",
       "       0, 0, 0, 0, 0, 0, 0, 0, 0, 0, 0, 0, 1, 0, 0, 0, 0, 0, 1, 0, 0, 0,\n",
       "       0, 0, 0, 0, 0, 1, 0, 0, 0, 0, 0, 0, 0, 0, 0, 0, 0, 0, 0, 0, 0, 0,\n",
       "       0, 0, 0, 0, 0, 0, 1, 0, 1, 1, 0, 0, 0, 0, 0, 0, 1, 0, 0, 0, 0, 0,\n",
       "       0, 0, 0, 0, 1, 0, 0, 1, 0, 0, 0, 0, 0, 1, 0], dtype=int64)"
      ]
     },
     "execution_count": 288,
     "metadata": {},
     "output_type": "execute_result"
    }
   ],
   "source": [
    "AgglCluster.labels_"
   ]
  },
  {
   "cell_type": "code",
   "execution_count": 296,
   "metadata": {},
   "outputs": [
    {
     "name": "stderr",
     "output_type": "stream",
     "text": [
      "C:\\Users\\admin\\AppData\\Local\\Programs\\Python\\Python36\\Lib\\site-packages\\pandas\\core\\generic.py:4401: SettingWithCopyWarning: \n",
      "A value is trying to be set on a copy of a slice from a DataFrame.\n",
      "Try using .loc[row_indexer,col_indexer] = value instead\n",
      "\n",
      "See the caveats in the documentation: http://pandas.pydata.org/pandas-docs/stable/indexing.html#indexing-view-versus-copy\n",
      "  self[name] = value\n"
     ]
    },
    {
     "data": {
      "text/plain": [
       "0    453\n",
       "1     46\n",
       "Name: Agg_labels_, dtype: int64"
      ]
     },
     "execution_count": 296,
     "metadata": {},
     "output_type": "execute_result"
    }
   ],
   "source": [
    "\n",
    "small_df.Agg_labels_=AgglCluster.labels_\n",
    "small_df.Agg_labels_.value_counts()"
   ]
  },
  {
   "cell_type": "code",
   "execution_count": 298,
   "metadata": {},
   "outputs": [],
   "source": [
    "label1=small_df['Text'].loc[small_df['Agg_labels_']==0].values\n",
    "label2=small_df['Text'].loc[small_df['Agg_labels_']==1].values"
   ]
  },
  {
   "cell_type": "code",
   "execution_count": 299,
   "metadata": {},
   "outputs": [
    {
     "name": "stdout",
     "output_type": "stream",
     "text": [
      "The biting touch of cranberry and the soothing flavor and aroma of apple. Reminiscent of a cranberry cocktail when served cold - a great flavored iced tea - and hot, just flake in some cinnamon and drift off in la-la land as you consume a near zero-calorie apple pie. This stuff is good!\n",
      "**********\n",
      "This is the review written by my wife and granddaughter about this microwave treat.<br /><br />\"This is a single serving size microwaveable dessert.  You add a little water and empty the mix packet into the bowl and then microwave for about 45 seconds.  Drizzle on the topping and let cool for 2-5 minutes (depending on how warm you want it).  Enjoy right out of the bowl with a fork as is or add a scoop of ice cream.<br /><br />It was chocolaty, yummy, moist and fun to eat.  Yumm!\"  My granddaughter, a Dora fan, adds, \"Deliciosa!\"\n",
      "**********\n",
      "I first tried the biscoff cookies on my way to New Orleans. AirTran was serving these as snacks for the travelers. I liked it so much that I decided to order a family size from the Biscoff company. Unfortunately, when they arrived I noticed that most of the cookies were cracked, chipped, essentially crumbled into pieces. Why wouldn't it be when the cookies were just packed in a weak wrapper/packaging box and had been tossed around during the period of shipment?<br /><br />I'm fairly disappointed that I wasted my money on a bunch of destroyed cookies.\n"
     ]
    }
   ],
   "source": [
    "print(label1[1],label1[36],label1[10],sep=\"\\n**********\\n\")"
   ]
  },
  {
   "cell_type": "code",
   "execution_count": 303,
   "metadata": {},
   "outputs": [
    {
     "name": "stdout",
     "output_type": "stream",
     "text": [
      "Good is ramune.<br /><br />It tastes BETTER than Sprite.<br /><br />So order it.<br /><br />Because it is good Ramune.<br /><br />Really.\n",
      "**********\n",
      "One of our favorite dessert recipes calls for almond paste and the Odense tube is the best for our particular use.<br /><br />Usually I buy it at Safeway, but it costs around $10 per tube there. I checked out Amazon and voil&agrave; -- a six-pack of these puppies comes to a little more than $5 per tube, plus it qualifies for Free SuperSaver Shipping.<br /><br />Now we don't have to wait for a special occasion. We can go ahead and splurge whenever we want to!\n",
      "**********\n",
      "This is a very good drink.  Tasty and not syrupy I really enjoyed the flavor.  I tried the Sparkling Clementine.  It is funny when I tasted the drink I thought, yup, that tastes like a Clementine.  Then I looked at the back for the ingredients.  There are juices (from concentrate) from White Grape, Apple, Lemon and Orange Juice.  No Clementine.  Funny enough it really is a nice flavor.<br /><br />Izze also offers this beverage in a just over 8 oz. a can.  The drink does not have caffeine or added sugars so I don't feel bad about drinking it.  It isn't overly sweet so it adds a bit of energy rather then making me tired.<br /><br />This is not a hydration beverage as much as a tasty treat.  It is not unhealthy so you don't need to feel guilty by downing one or two of these in a day.  Not calorie free but not too bad either.  The taste is not overly sweet.  I have heard from others who consider it bitter.  I disagree.  I think this bitter taste is from tastebuds too used to sugary sodas.<br /><br />A great drink, a good company and thumbs up in my book\n"
     ]
    }
   ],
   "source": [
    "print(label2[1],label2[45],label2[25],sep=\"\\n**********\\n\")"
   ]
  },
  {
   "cell_type": "code",
   "execution_count": null,
   "metadata": {},
   "outputs": [],
   "source": [
    "#df_sorted['agglom_review']=np.nan\n",
    "#df_sorted.loc[df_sorted.labels == 1  , 'kmeans_review'] = \"positive\"\n",
    "#df_sorted.loc[df_sorted.labels == 2 ,  'kmeans_review'] = \"negative\""
   ]
  },
  {
   "cell_type": "code",
   "execution_count": null,
   "metadata": {},
   "outputs": [],
   "source": []
  },
  {
   "cell_type": "code",
   "execution_count": null,
   "metadata": {},
   "outputs": [],
   "source": []
  },
  {
   "cell_type": "code",
   "execution_count": null,
   "metadata": {},
   "outputs": [],
   "source": []
  }
 ],
 "metadata": {
  "kernelspec": {
   "display_name": "Python 3",
   "language": "python",
   "name": "python3"
  },
  "language_info": {
   "codemirror_mode": {
    "name": "ipython",
    "version": 3
   },
   "file_extension": ".py",
   "mimetype": "text/x-python",
   "name": "python",
   "nbconvert_exporter": "python",
   "pygments_lexer": "ipython3",
   "version": "3.6.3rc1"
  }
 },
 "nbformat": 4,
 "nbformat_minor": 2
}
