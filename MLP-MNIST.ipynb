{
 "cells": [
  {
   "cell_type": "code",
   "execution_count": 5,
   "metadata": {
    "scrolled": true
   },
   "outputs": [],
   "source": [
    "from keras.datasets import mnist\n",
    "import seaborn as sb\n",
    "from keras.utils import np_utils\n",
    "from keras.initializers import RandomNormal,he_normal,he_uniform\n",
    "import numpy as np\n",
    "import pandas as pd\n",
    "import time\n",
    "import matplotlib.pyplot as plt"
   ]
  },
  {
   "cell_type": "code",
   "execution_count": 117,
   "metadata": {
    "scrolled": true
   },
   "outputs": [],
   "source": [
    "(X_train, Y_train), (X_test, Y_test) = mnist.load_data()"
   ]
  },
  {
   "cell_type": "code",
   "execution_count": 161,
   "metadata": {},
   "outputs": [],
   "source": [
    "# this function is used to update the plots for each epoch and error\n",
    "def plt_dynamic(x, vy, ty, ax, colors=['b']):\n",
    "    ax.plot(x, vy, 'b', label=\"Validation Loss\")\n",
    "    ax.plot(x, ty, 'r', label=\"Train Loss\")\n",
    "    plt.legend()\n",
    "    plt.grid()\n",
    "    fig.canvas.draw()"
   ]
  },
  {
   "cell_type": "code",
   "execution_count": 118,
   "metadata": {
    "scrolled": true
   },
   "outputs": [
    {
     "name": "stdout",
     "output_type": "stream",
     "text": [
      "train data set size 60000 no of features in train (28, 28)\n",
      "train data set size 10000 no of features in train (28, 28)\n"
     ]
    }
   ],
   "source": [
    "print(\"train data set size\" , X_train.shape[0], \"no of features in train\", X_train.shape[1:])\n",
    "print(\"train data set size\" , X_test.shape[0], \"no of features in train\", X_test.shape[1:])"
   ]
  },
  {
   "cell_type": "code",
   "execution_count": 119,
   "metadata": {
    "scrolled": true
   },
   "outputs": [
    {
     "data": {
      "text/plain": [
       "(60000, 28, 28)"
      ]
     },
     "execution_count": 119,
     "metadata": {},
     "output_type": "execute_result"
    }
   ],
   "source": [
    "X_train.shape"
   ]
  },
  {
   "cell_type": "markdown",
   "metadata": {},
   "source": [
    "# converting image to 28*28 vector"
   ]
  },
  {
   "cell_type": "code",
   "execution_count": 22,
   "metadata": {
    "scrolled": true
   },
   "outputs": [
    {
     "name": "stdout",
     "output_type": "stream",
     "text": [
      "(5, 3, 2)\n",
      "(5, 6)\n"
     ]
    }
   ],
   "source": [
    "'''a=np.random.rand(5*3*2)\n",
    "a=a.reshape(5,3,2)\n",
    "print(a.shape)\n",
    "a=a.reshape(a.shape[0],a.shape[1]*a.shape[2])\n",
    "print(a.shape)\n",
    "'''"
   ]
  },
  {
   "cell_type": "code",
   "execution_count": 120,
   "metadata": {
    "scrolled": true
   },
   "outputs": [
    {
     "data": {
      "text/plain": [
       "(10000, 784)"
      ]
     },
     "execution_count": 120,
     "metadata": {},
     "output_type": "execute_result"
    }
   ],
   "source": [
    "X_train=X_train.reshape(X_train.shape[0],X_train.shape[1]*X_train.shape[2])\n",
    "X_train.shape\n",
    "X_test=X_test.reshape(X_test.shape[0],X_test.shape[1]*X_test.shape[2])\n",
    "X_test.shape"
   ]
  },
  {
   "cell_type": "code",
   "execution_count": 121,
   "metadata": {
    "scrolled": true
   },
   "outputs": [
    {
     "name": "stdout",
     "output_type": "stream",
     "text": [
      "train dataset shape (60000, 784)\n",
      "test dataset shape (10000, 784)\n"
     ]
    }
   ],
   "source": [
    "print(\"train dataset shape\",X_train.shape)\n",
    "print(\"test dataset shape\",X_test.shape)"
   ]
  },
  {
   "cell_type": "code",
   "execution_count": 98,
   "metadata": {
    "scrolled": true
   },
   "outputs": [],
   "source": [
    "from sklearn.preprocessing import normalize\n",
    "#X_train=normalize(X_train,axis=0)\n",
    "#X_test=normalize(X_train,axis=0)\n",
    "#X_train[0]\n",
    "#X_train.max(axis=0)"
   ]
  },
  {
   "cell_type": "code",
   "execution_count": 122,
   "metadata": {
    "scrolled": true
   },
   "outputs": [],
   "source": [
    "\n",
    "X_train=X_train/255\n",
    "X_test=X_test/255"
   ]
  },
  {
   "cell_type": "code",
   "execution_count": 126,
   "metadata": {},
   "outputs": [
    {
     "name": "stdout",
     "output_type": "stream",
     "text": [
      "0.0 1.0\n",
      "1.0 0.0\n"
     ]
    }
   ],
   "source": [
    "print(X_train.min(),X_train.max())\n",
    "print(X_test.max(),X_test.min())"
   ]
  },
  {
   "cell_type": "markdown",
   "metadata": {},
   "source": [
    "# Softmax classifier"
   ]
  },
  {
   "cell_type": "code",
   "execution_count": 127,
   "metadata": {},
   "outputs": [],
   "source": [
    "from keras.layers import Dense,Activation\n",
    "from keras.models import Sequential"
   ]
  },
  {
   "cell_type": "code",
   "execution_count": 128,
   "metadata": {},
   "outputs": [],
   "source": [
    "input_dim=X_train.shape[1]\n",
    "output_dim=10\n",
    "batch_size=128\n",
    "nb_epochs=20"
   ]
  },
  {
   "cell_type": "code",
   "execution_count": 130,
   "metadata": {},
   "outputs": [],
   "source": [
    "model=Sequential()\n",
    "model.add(Dense(output_dim,input_dim=input_dim,activation='softmax'))"
   ]
  },
  {
   "cell_type": "code",
   "execution_count": 131,
   "metadata": {},
   "outputs": [],
   "source": [
    "model.compile(optimizer='sgd',loss='categorical_crossentropy', metrics=['accuracy'])\n"
   ]
  },
  {
   "cell_type": "code",
   "execution_count": 132,
   "metadata": {},
   "outputs": [],
   "source": [
    "Y_train = np_utils.to_categorical(y_train, 10) \n",
    "Y_test = np_utils.to_categorical(y_test, 10)"
   ]
  },
  {
   "cell_type": "code",
   "execution_count": 105,
   "metadata": {},
   "outputs": [
    {
     "name": "stdout",
     "output_type": "stream",
     "text": [
      "(60000, 784) (60000, 10) (10000, 784) (10000, 10)\n"
     ]
    }
   ],
   "source": [
    "print(X_train.shape,Y_train.shape,X_test.shape,Y_test.shape)"
   ]
  },
  {
   "cell_type": "code",
   "execution_count": 133,
   "metadata": {},
   "outputs": [
    {
     "data": {
      "text/plain": [
       "array([[0., 0., 0., 0., 0., 1., 0., 0., 0., 0.],\n",
       "       [1., 0., 0., 0., 0., 0., 0., 0., 0., 0.],\n",
       "       [0., 0., 0., 0., 1., 0., 0., 0., 0., 0.]], dtype=float32)"
      ]
     },
     "execution_count": 133,
     "metadata": {},
     "output_type": "execute_result"
    }
   ],
   "source": [
    "type(Y_train)\n",
    "Y_train[:3]"
   ]
  },
  {
   "cell_type": "code",
   "execution_count": 134,
   "metadata": {},
   "outputs": [
    {
     "name": "stdout",
     "output_type": "stream",
     "text": [
      "Train on 60000 samples, validate on 10000 samples\n",
      "Epoch 1/20\n",
      "60000/60000 [==============================] - 2s 29us/step - loss: 1.2614 - acc: 0.7104 - val_loss: 0.8060 - val_acc: 0.8350\n",
      "Epoch 2/20\n",
      "60000/60000 [==============================] - 1s 23us/step - loss: 0.7133 - acc: 0.8433 - val_loss: 0.6045 - val_acc: 0.8638\n",
      "Epoch 3/20\n",
      "60000/60000 [==============================] - 1s 22us/step - loss: 0.5859 - acc: 0.8608 - val_loss: 0.5231 - val_acc: 0.8750\n",
      "Epoch 4/20\n",
      "60000/60000 [==============================] - 1s 21us/step - loss: 0.5245 - acc: 0.8702 - val_loss: 0.4777 - val_acc: 0.8829\n",
      "Epoch 5/20\n",
      "60000/60000 [==============================] - 1s 22us/step - loss: 0.4872 - acc: 0.8761 - val_loss: 0.4481 - val_acc: 0.8872\n",
      "Epoch 6/20\n",
      "60000/60000 [==============================] - 1s 22us/step - loss: 0.4614 - acc: 0.8811 - val_loss: 0.4269 - val_acc: 0.8898\n",
      "Epoch 7/20\n",
      "60000/60000 [==============================] - 1s 21us/step - loss: 0.4424 - acc: 0.8837 - val_loss: 0.4108 - val_acc: 0.8921\n",
      "Epoch 8/20\n",
      "60000/60000 [==============================] - 1s 22us/step - loss: 0.4275 - acc: 0.8870 - val_loss: 0.3983 - val_acc: 0.8950\n",
      "Epoch 9/20\n",
      "60000/60000 [==============================] - 1s 22us/step - loss: 0.4155 - acc: 0.8895 - val_loss: 0.3877 - val_acc: 0.8976\n",
      "Epoch 10/20\n",
      "60000/60000 [==============================] - 1s 23us/step - loss: 0.4056 - acc: 0.8920 - val_loss: 0.3792 - val_acc: 0.8994\n",
      "Epoch 11/20\n",
      "60000/60000 [==============================] - 1s 21us/step - loss: 0.3972 - acc: 0.8934 - val_loss: 0.3718 - val_acc: 0.9018\n",
      "Epoch 12/20\n",
      "60000/60000 [==============================] - 4s 61us/step - loss: 0.3899 - acc: 0.8947 - val_loss: 0.3655 - val_acc: 0.9025\n",
      "Epoch 13/20\n",
      "60000/60000 [==============================] - 1s 22us/step - loss: 0.3835 - acc: 0.8960 - val_loss: 0.3602 - val_acc: 0.9046\n",
      "Epoch 14/20\n",
      "60000/60000 [==============================] - 1s 22us/step - loss: 0.3779 - acc: 0.8974 - val_loss: 0.3550 - val_acc: 0.9060\n",
      "Epoch 15/20\n",
      "60000/60000 [==============================] - 1s 23us/step - loss: 0.3729 - acc: 0.8982 - val_loss: 0.3507 - val_acc: 0.9056\n",
      "Epoch 16/20\n",
      "60000/60000 [==============================] - 1s 24us/step - loss: 0.3684 - acc: 0.8996 - val_loss: 0.3466 - val_acc: 0.9066\n",
      "Epoch 17/20\n",
      "60000/60000 [==============================] - 2s 28us/step - loss: 0.3643 - acc: 0.9005 - val_loss: 0.3435 - val_acc: 0.9071\n",
      "Epoch 18/20\n",
      "60000/60000 [==============================] - 1s 22us/step - loss: 0.3606 - acc: 0.9007 - val_loss: 0.3399 - val_acc: 0.9083\n",
      "Epoch 19/20\n",
      "60000/60000 [==============================] - 1s 21us/step - loss: 0.3572 - acc: 0.9016 - val_loss: 0.3370 - val_acc: 0.9084\n",
      "Epoch 20/20\n",
      "60000/60000 [==============================] - 2s 35us/step - loss: 0.3540 - acc: 0.9027 - val_loss: 0.3346 - val_acc: 0.9093\n"
     ]
    }
   ],
   "source": [
    "#history = model.fit(X_train, Y_train, batch_size=batch_size, epochs=nb_epochs, verbose=1, validation_data=(X_test, Y_test)) \n",
    "history = model.fit(X_train, Y_train, batch_size=batch_size, epochs=nb_epochs, verbose=1, validation_data=(X_test, Y_test)) "
   ]
  },
  {
   "cell_type": "code",
   "execution_count": 135,
   "metadata": {},
   "outputs": [
    {
     "name": "stdout",
     "output_type": "stream",
     "text": [
      "Test score: 0.33458452565073965\n",
      "Test accuracy: 0.9093\n"
     ]
    }
   ],
   "source": [
    "score=model.evaluate(X_test,Y_test,verbose=0)\n",
    "print('Test score:', score[0]) \n",
    "print('Test accuracy:', score[1])"
   ]
  },
  {
   "cell_type": "markdown",
   "metadata": {},
   "source": [
    "# MLP+sigmoid activation +SGDOptimizer"
   ]
  },
  {
   "cell_type": "code",
   "execution_count": 136,
   "metadata": {},
   "outputs": [
    {
     "name": "stdout",
     "output_type": "stream",
     "text": [
      "_________________________________________________________________\n",
      "Layer (type)                 Output Shape              Param #   \n",
      "=================================================================\n",
      "dense_11 (Dense)             (None, 512)               401920    \n",
      "_________________________________________________________________\n",
      "dense_12 (Dense)             (None, 128)               65664     \n",
      "_________________________________________________________________\n",
      "dense_13 (Dense)             (None, 10)                1290      \n",
      "=================================================================\n",
      "Total params: 468,874\n",
      "Trainable params: 468,874\n",
      "Non-trainable params: 0\n",
      "_________________________________________________________________\n"
     ]
    }
   ],
   "source": [
    "model_sigmoid=Sequential()\n",
    "model_sigmoid.add(Dense(512,activation='sigmoid',input_shape=(input_dim,)))\n",
    "model_sigmoid.add(Dense(128,activation='sigmoid'))\n",
    "model_sigmoid.add(Dense(output_dim,activation='softmax'))\n",
    "\n",
    "model_sigmoid.summary()"
   ]
  },
  {
   "cell_type": "code",
   "execution_count": 137,
   "metadata": {},
   "outputs": [
    {
     "name": "stdout",
     "output_type": "stream",
     "text": [
      "Train on 60000 samples, validate on 10000 samples\n",
      "Epoch 1/20\n",
      "60000/60000 [==============================] - 11s 180us/step - loss: 2.2714 - acc: 0.1908 - val_loss: 2.2270 - val_acc: 0.2780\n",
      "Epoch 2/20\n",
      "60000/60000 [==============================] - 8s 134us/step - loss: 2.1832 - acc: 0.4591 - val_loss: 2.1310 - val_acc: 0.5197\n",
      "Epoch 3/20\n",
      "60000/60000 [==============================] - 10s 169us/step - loss: 2.0718 - acc: 0.5899 - val_loss: 1.9951 - val_acc: 0.7008\n",
      "Epoch 4/20\n",
      "60000/60000 [==============================] - 8s 137us/step - loss: 1.9101 - acc: 0.6544 - val_loss: 1.8006 - val_acc: 0.6743\n",
      "Epoch 5/20\n",
      "60000/60000 [==============================] - 11s 181us/step - loss: 1.6925 - acc: 0.6880 - val_loss: 1.5580 - val_acc: 0.7190\n",
      "Epoch 6/20\n",
      "60000/60000 [==============================] - 11s 181us/step - loss: 1.4505 - acc: 0.7216 - val_loss: 1.3205 - val_acc: 0.7359\n",
      "Epoch 7/20\n",
      "60000/60000 [==============================] - 9s 146us/step - loss: 1.2336 - acc: 0.7508 - val_loss: 1.1250 - val_acc: 0.7700\n",
      "Epoch 8/20\n",
      "60000/60000 [==============================] - 11s 177us/step - loss: 1.0640 - acc: 0.7748 - val_loss: 0.9784 - val_acc: 0.7943\n",
      "Epoch 9/20\n",
      "60000/60000 [==============================] - 11s 175us/step - loss: 0.9366 - acc: 0.7938 - val_loss: 0.8680 - val_acc: 0.8049\n",
      "Epoch 10/20\n",
      "60000/60000 [==============================] - 9s 147us/step - loss: 0.8403 - acc: 0.8070 - val_loss: 0.7837 - val_acc: 0.8190\n",
      "Epoch 11/20\n",
      "60000/60000 [==============================] - 11s 179us/step - loss: 0.7657 - acc: 0.8191 - val_loss: 0.7183 - val_acc: 0.8261\n",
      "Epoch 12/20\n",
      "60000/60000 [==============================] - 10s 174us/step - loss: 0.7071 - acc: 0.8283 - val_loss: 0.6661 - val_acc: 0.83737090 - a\n",
      "Epoch 13/20\n",
      "60000/60000 [==============================] - 8s 139us/step - loss: 0.6600 - acc: 0.8370 - val_loss: 0.6228 - val_acc: 0.8458\n",
      "Epoch 14/20\n",
      "60000/60000 [==============================] - 10s 165us/step - loss: 0.6212 - acc: 0.8434 - val_loss: 0.5876 - val_acc: 0.8526\n",
      "Epoch 15/20\n",
      "60000/60000 [==============================] - 8s 138us/step - loss: 0.5890 - acc: 0.8494 - val_loss: 0.5577 - val_acc: 0.8580\n",
      "Epoch 16/20\n",
      "60000/60000 [==============================] - 10s 170us/step - loss: 0.5617 - acc: 0.8560 - val_loss: 0.5323 - val_acc: 0.8619\n",
      "Epoch 17/20\n",
      "60000/60000 [==============================] - 9s 157us/step - loss: 0.5383 - acc: 0.8604 - val_loss: 0.5105 - val_acc: 0.8673\n",
      "Epoch 18/20\n",
      "60000/60000 [==============================] - 9s 151us/step - loss: 0.5178 - acc: 0.8651 - val_loss: 0.4915 - val_acc: 0.8733\n",
      "Epoch 19/20\n",
      "60000/60000 [==============================] - 10s 169us/step - loss: 0.5001 - acc: 0.8685 - val_loss: 0.4751 - val_acc: 0.8751\n",
      "Epoch 20/20\n",
      "60000/60000 [==============================] - 9s 145us/step - loss: 0.4842 - acc: 0.8716 - val_loss: 0.4605 - val_acc: 0.8785\n"
     ]
    }
   ],
   "source": [
    "model_sigmoid.compile(optimizer='sgd',loss='categorical_crossentropy',metrics=['accuracy'])\n",
    "history=model_sigmoid.fit(X_train,Y_train,batch_size=batch_size,epochs=nb_epochs,verbose=1,validation_data=(X_test,Y_test))"
   ]
  },
  {
   "cell_type": "code",
   "execution_count": 138,
   "metadata": {},
   "outputs": [
    {
     "name": "stdout",
     "output_type": "stream",
     "text": [
      "Test score: 0.4605082578420639\n",
      "Test accuracy: 0.8785\n"
     ]
    }
   ],
   "source": [
    "score=model_sigmoid.evaluate(X_test,Y_test,verbose=0)\n",
    "print('Test score:', score[0]) \n",
    "print('Test accuracy:', score[1])\n"
   ]
  },
  {
   "cell_type": "code",
   "execution_count": 139,
   "metadata": {},
   "outputs": [],
   "source": [
    "w_after=model_sigmoid.get_weights()\n"
   ]
  },
  {
   "cell_type": "code",
   "execution_count": 142,
   "metadata": {},
   "outputs": [
    {
     "name": "stdout",
     "output_type": "stream",
     "text": [
      "<class 'list'>\n",
      "length of weigths [array([[ 0.05462548, -0.04228503,  0.01418341, ..., -0.0663244 ,\n",
      "        -0.04459018, -0.0393944 ],\n",
      "       [-0.02329222, -0.05059307, -0.02586667, ...,  0.03078464,\n",
      "         0.02287617, -0.04051736],\n",
      "       [-0.04891748,  0.0122173 ,  0.06470804, ..., -0.03550461,\n",
      "         0.04300069, -0.03748894],\n",
      "       ...,\n",
      "       [-0.00616867, -0.0558772 , -0.00013889, ...,  0.0014256 ,\n",
      "         0.03827918,  0.00596883],\n",
      "       [ 0.00908642,  0.0466719 , -0.02584259, ..., -0.02970552,\n",
      "        -0.04200502, -0.01522023],\n",
      "       [ 0.02764605,  0.02412538,  0.06771864, ..., -0.06641862,\n",
      "         0.04066073, -0.03630875]], dtype=float32), array([ 2.98067858e-03,  7.29878899e-03,  6.93545537e-03,  9.54390410e-03,\n",
      "       -3.45547311e-03,  3.91488336e-03,  9.65643767e-03, -6.91016996e-03,\n",
      "        1.49862468e-02,  2.29078112e-03, -6.91627711e-03,  6.62090816e-03,\n",
      "       -9.99537297e-03, -1.21085932e-02,  9.86472610e-03, -8.34965333e-03,\n",
      "        7.14196300e-04, -4.98387555e-04, -1.12426104e-02, -5.77619206e-03,\n",
      "        8.40437307e-04,  6.82173017e-03, -6.51246728e-03, -1.51215470e-03,\n",
      "        1.66537631e-02, -1.91620330e-03, -9.37355217e-03,  5.07116970e-03,\n",
      "       -5.21507766e-03,  2.38915998e-03,  2.06671050e-03,  1.58562977e-03,\n",
      "       -1.79846608e-03,  5.80414198e-03,  5.85529720e-03, -1.70550076e-03,\n",
      "       -3.46097350e-03, -8.83181230e-04,  6.10886607e-03,  8.27038102e-03,\n",
      "       -4.10148548e-03,  2.45518726e-03, -3.71916266e-03, -5.44035761e-03,\n",
      "       -4.21966333e-03, -3.59361782e-03, -7.77165359e-03,  3.33542493e-03,\n",
      "        4.17619711e-03, -9.13528446e-03,  1.57519411e-02,  4.96331544e-04,\n",
      "        5.75376861e-03,  2.95847515e-03, -3.84472404e-03, -5.53635089e-03,\n",
      "       -2.49515311e-03,  8.49314313e-03,  8.26483825e-04, -6.71637803e-03,\n",
      "        5.56782726e-03, -2.11053854e-03,  3.28460213e-04,  1.16478819e-02,\n",
      "       -7.68382335e-03,  6.55742479e-04, -7.60928122e-03,  1.11156721e-02,\n",
      "        5.50093362e-04,  7.98955001e-03,  1.70840218e-03, -1.68584273e-04,\n",
      "        2.47350457e-04,  3.36367521e-03,  3.79748322e-04, -1.55283639e-03,\n",
      "       -9.98974219e-03, -1.70694035e-03,  1.03339432e-02,  1.01017440e-02,\n",
      "        1.65091408e-03, -4.11823206e-03, -8.20161682e-03, -2.43452773e-03,\n",
      "        1.32468613e-02,  6.09510858e-03, -1.23356283e-02,  8.33139464e-04,\n",
      "       -9.01370868e-03, -9.91324196e-05, -1.34706236e-02, -1.34149392e-03,\n",
      "        1.36738373e-02, -3.50324926e-03, -1.00323837e-02,  4.40373924e-03,\n",
      "       -5.58518106e-04, -3.46748694e-03, -7.89470691e-03,  3.21391155e-04,\n",
      "       -6.28784066e-04, -4.86373057e-04, -5.19532990e-03,  2.11697421e-03,\n",
      "       -3.56855430e-03, -3.80303571e-03,  5.54201519e-03, -1.17290746e-02,\n",
      "        4.38301591e-04, -4.73567424e-03, -3.40303965e-03, -3.04177264e-03,\n",
      "        1.28775667e-02,  4.02193470e-03, -6.09982992e-04,  1.20103667e-02,\n",
      "        2.59214686e-03,  2.35129315e-02,  8.24002642e-03, -1.28810769e-02,\n",
      "        1.39770808e-03,  9.42974538e-03,  2.41213595e-03,  7.25654187e-03,\n",
      "        1.76238026e-02,  3.58032575e-03,  9.58170090e-03,  1.30664688e-02,\n",
      "        1.51775451e-02,  4.14161768e-04, -3.03049083e-03,  8.24841578e-03,\n",
      "       -3.73843685e-03, -2.71372451e-03,  2.33145058e-03,  3.10779456e-03,\n",
      "        4.87066712e-03, -1.50778536e-02, -1.01573821e-02, -1.70241464e-02,\n",
      "        1.00235399e-02,  1.76587852e-03,  1.62281152e-02,  3.92901618e-03,\n",
      "       -5.51770302e-03, -5.31559065e-03, -4.51440411e-03, -2.59472942e-03,\n",
      "       -8.82754941e-03, -4.33903839e-03, -4.39498434e-03, -5.50480746e-03,\n",
      "        4.26354585e-03, -1.19336173e-02,  1.29106268e-02, -7.86938996e-04,\n",
      "       -6.42100442e-03, -4.75981692e-03,  3.73063982e-03,  2.06687415e-04,\n",
      "        4.92382469e-03,  1.89301034e-03,  4.08858573e-03, -1.55287446e-03,\n",
      "        3.46496701e-03, -8.35958589e-03,  1.48066506e-03,  1.91365625e-03,\n",
      "       -7.52435112e-03,  3.10923834e-03,  2.95668631e-03,  4.25077928e-03,\n",
      "        9.08922218e-03,  6.21872256e-03, -3.60813388e-03, -1.14127062e-02,\n",
      "       -7.91403465e-03, -2.44248891e-04, -7.38160545e-03,  2.96053430e-03,\n",
      "        3.12559726e-03, -1.02760978e-02,  3.67719587e-03, -6.12761453e-03,\n",
      "       -8.62763543e-03, -7.99079239e-03,  1.82754011e-03, -1.90183092e-02,\n",
      "       -6.57594588e-04, -1.19091244e-03,  4.57888003e-03, -1.08890561e-02,\n",
      "        1.57395646e-03,  1.04681158e-03,  7.17138918e-03, -3.10869247e-04,\n",
      "       -8.36117379e-03,  5.92840835e-04,  8.74185376e-03,  1.31928567e-02,\n",
      "       -6.06516842e-04,  7.04483548e-03, -2.34462600e-03, -4.54760622e-04,\n",
      "        4.30564117e-03, -1.16293635e-02,  2.85564344e-02, -1.45061426e-02,\n",
      "        5.22284769e-04, -5.57763595e-03, -1.33827433e-03, -2.05136719e-03,\n",
      "       -3.73862288e-03,  3.85564868e-03,  9.83718876e-03, -1.35312323e-02,\n",
      "       -2.79711932e-02, -3.56143224e-03, -1.72044302e-03, -2.06264155e-03,\n",
      "       -9.45056498e-04, -7.74970232e-03,  1.54975560e-02,  2.52815662e-03,\n",
      "       -3.18928389e-03, -1.13240061e-02,  7.73409056e-03,  6.62985025e-03,\n",
      "       -5.96265774e-03,  2.64800922e-03, -1.11161196e-03,  1.11458609e-02,\n",
      "       -4.94094053e-03,  3.92411789e-03, -2.11887248e-03, -4.26543364e-03,\n",
      "        4.66578698e-04,  1.54877966e-03,  1.71948480e-03, -1.48564465e-02,\n",
      "        1.20736742e-02,  7.58187380e-03,  1.90134175e-04,  3.09906807e-03,\n",
      "       -2.38015782e-03,  1.53500732e-04,  1.65349226e-02, -7.20153516e-03,\n",
      "        1.41129363e-02, -5.24868118e-03, -4.10839869e-03,  2.66103656e-03,\n",
      "       -6.05875533e-03, -3.55591043e-03, -7.03538477e-04, -7.46652065e-03,\n",
      "       -1.50614502e-02, -2.84615322e-04, -3.20242867e-02, -8.50377139e-03,\n",
      "       -6.60943519e-03, -2.25424231e-03,  4.16941242e-03, -2.53471453e-03,\n",
      "       -9.06389148e-04,  7.58019648e-03,  2.98226834e-03,  3.40504106e-03,\n",
      "        7.33474176e-03,  6.56488771e-03,  2.58352794e-03,  3.60513036e-03,\n",
      "        1.35011785e-02, -7.54193985e-04, -3.09853046e-03,  2.49688933e-03,\n",
      "       -2.35253386e-03, -1.20819977e-03, -6.45494508e-03, -1.29336268e-02,\n",
      "        2.14218497e-04,  2.92076194e-03, -2.40167999e-03, -2.83505418e-03,\n",
      "        2.03685556e-03,  4.78319009e-04, -1.39067951e-03,  5.04261721e-03,\n",
      "       -4.75354580e-04, -1.54383760e-02,  3.57176247e-03, -2.63549201e-03,\n",
      "        4.16813605e-03, -1.60511304e-02,  5.02460962e-03, -9.68982745e-03,\n",
      "        3.89610580e-03,  3.28091672e-03, -3.57020367e-03, -1.30236591e-03,\n",
      "        1.17438063e-02,  1.04568908e-02,  1.11854337e-02,  4.71175788e-03,\n",
      "       -6.52920455e-03,  5.67342807e-03,  1.18246744e-03, -2.45437329e-03,\n",
      "        4.70095966e-03, -8.70914571e-03,  6.33753929e-03,  1.55417004e-03,\n",
      "        4.28936211e-03, -8.05885706e-04, -2.38378276e-03, -3.11277760e-03,\n",
      "       -9.82268364e-04, -2.54161330e-03,  6.67747052e-04, -3.01034423e-03,\n",
      "       -7.16724806e-03,  5.94039867e-03, -3.43526737e-03,  4.39679483e-03,\n",
      "       -9.31014773e-03,  2.55809724e-03, -4.70473990e-03,  9.34039522e-03,\n",
      "       -4.80034947e-03, -2.91781058e-03,  3.39919794e-03, -2.57469737e-03,\n",
      "       -4.04958706e-03,  3.77207366e-03,  7.18104374e-03,  1.66590163e-03,\n",
      "       -5.09415660e-03, -5.59486402e-03, -1.05469897e-02, -2.55601038e-03,\n",
      "        2.46497523e-03,  9.24140448e-04,  9.94710159e-03, -1.36384415e-02,\n",
      "        1.09918453e-02,  8.90593324e-03,  4.01313417e-03, -2.56236130e-03,\n",
      "       -1.98078505e-03,  2.48763332e-04,  9.83575301e-05, -5.15179848e-03,\n",
      "        6.65311760e-04,  9.20016598e-03, -9.68772359e-03, -3.78216268e-03,\n",
      "        6.56834629e-04,  5.13582863e-03,  2.24421601e-05, -5.83781977e-04,\n",
      "       -3.25583783e-03, -4.08792694e-04,  3.01407091e-03,  9.18036851e-04,\n",
      "        3.56371212e-03, -6.11494016e-03,  8.91548209e-03,  9.93562117e-03,\n",
      "        1.61691662e-02,  6.96651777e-03,  7.45470170e-04,  2.44772923e-03,\n",
      "       -5.60363987e-03,  1.06345396e-02,  4.62110294e-03,  1.30315349e-02,\n",
      "       -4.53092298e-03, -1.34941433e-02,  1.79815374e-03, -6.27071538e-04,\n",
      "        3.33072850e-03, -1.34842014e-02, -2.20265798e-03, -2.09049322e-03,\n",
      "        1.75313733e-03,  1.05972507e-03, -9.79819614e-03,  5.28669311e-03,\n",
      "        3.81689239e-03,  5.49078081e-03, -3.54022719e-03,  5.62551059e-03,\n",
      "        1.47388573e-03, -5.58420504e-03,  7.18510663e-03,  1.06823640e-02,\n",
      "       -1.38674257e-02, -3.72741139e-04,  7.13338982e-03,  1.01236510e-03,\n",
      "       -6.05204608e-03, -1.17388426e-03,  4.21781471e-04,  4.88146674e-03,\n",
      "        3.00153275e-04, -1.52397156e-02, -5.60835330e-03,  7.92582112e-04,\n",
      "       -3.12751485e-03,  2.31107557e-03, -3.38911242e-03, -8.10365099e-03,\n",
      "        1.41391996e-02, -4.61665308e-03, -1.59753505e-02, -3.58762452e-03,\n",
      "       -7.75348803e-04,  1.17316283e-02,  1.04150390e-02, -9.74658411e-03,\n",
      "       -9.32349358e-03,  4.99059632e-03,  6.88740145e-03, -8.88334238e-04,\n",
      "       -1.33678513e-02, -1.47669362e-02, -2.03197752e-03, -1.22617162e-03,\n",
      "        1.56835821e-02,  3.67196254e-03,  4.43809154e-03, -5.81662357e-03,\n",
      "        2.18795240e-03,  6.27368828e-03,  6.24865294e-03, -9.16780555e-04,\n",
      "       -6.09817728e-03, -1.80262513e-03, -1.28069632e-02,  6.13467814e-03,\n",
      "       -1.68804417e-03, -3.52086057e-03,  1.64991943e-03,  1.56741999e-02,\n",
      "        4.70164744e-03, -1.26964934e-02, -2.96667777e-03, -5.61760692e-03,\n",
      "       -9.61600430e-03,  5.49658062e-03, -1.98178180e-02,  4.85013053e-03,\n",
      "       -8.74645635e-03, -8.96000769e-03,  4.07871674e-04,  3.72729613e-03,\n",
      "        1.54836837e-03, -7.48438688e-05, -4.38203482e-04, -1.14834122e-03,\n",
      "        2.14270479e-03, -1.77375751e-03,  1.93644315e-04, -2.77610030e-03,\n",
      "       -7.47130997e-03, -3.71470279e-03, -3.69739765e-03,  2.04386283e-03,\n",
      "       -8.88233259e-03,  2.67235585e-03,  1.00496132e-02,  9.17848758e-03,\n",
      "        1.92767137e-03,  4.29224828e-03,  7.04110193e-04, -5.14167186e-04,\n",
      "        4.56037960e-04,  5.86756226e-03, -2.37193564e-03, -1.18287571e-03,\n",
      "       -1.28263179e-02,  2.87783821e-03,  5.86834503e-03,  5.78687247e-03,\n",
      "        1.88961197e-02, -4.82297037e-03, -4.57544287e-04,  5.34907030e-03,\n",
      "       -2.35967152e-03, -7.73314526e-03,  6.33595628e-04,  1.07640121e-02,\n",
      "        9.17634927e-03,  2.52883695e-02, -6.60286611e-03, -3.46778752e-03,\n",
      "       -2.31272960e-03, -4.45320155e-04, -4.40553675e-04, -9.52031277e-03,\n",
      "       -3.74179287e-03, -1.29775610e-03, -1.12118637e-02,  4.38755145e-03,\n",
      "       -7.35811051e-03,  1.12262834e-03,  1.44303851e-02, -7.83715397e-03,\n",
      "        1.14302058e-02,  6.89885765e-03,  2.90452735e-03, -1.52230845e-04],\n",
      "      dtype=float32), array([[ 0.04389289, -0.04448334,  0.08893213, ...,  0.11909992,\n",
      "        -0.1144592 , -0.02661295],\n",
      "       [-0.00663769,  0.0797019 , -0.06804666, ...,  0.01287897,\n",
      "         0.04504414, -0.07598512],\n",
      "       [-0.07845981, -0.04053527, -0.00220173, ..., -0.0430284 ,\n",
      "         0.04724622, -0.05614584],\n",
      "       ...,\n",
      "       [-0.02832351,  0.01641147, -0.06259733, ...,  0.07198575,\n",
      "         0.02118598,  0.06247732],\n",
      "       [-0.04892362, -0.01098339, -0.12546577, ..., -0.00669733,\n",
      "        -0.07195172, -0.00451895],\n",
      "       [-0.0844329 , -0.06806503,  0.06752313, ...,  0.01823942,\n",
      "        -0.02653956,  0.03931908]], dtype=float32), array([-8.31902958e-03,  1.07463240e-03, -8.66591837e-03,  8.28800257e-03,\n",
      "        1.84910299e-04, -1.79168547e-03, -2.07872177e-03, -9.67291836e-03,\n",
      "       -1.12512372e-02, -1.41161168e-03, -6.56556571e-03,  4.03891783e-03,\n",
      "        5.96063444e-03, -1.14213228e-02, -4.81402362e-03,  2.33361177e-04,\n",
      "        1.09505160e-02,  2.09603505e-03,  1.55446318e-03, -1.02160890e-02,\n",
      "        8.59621353e-03, -2.77979206e-03,  7.02107977e-03,  2.25755014e-03,\n",
      "        6.69295574e-03,  2.73997593e-03,  7.51224579e-03,  4.38897079e-03,\n",
      "        1.24672716e-02,  1.34797266e-03, -9.79348924e-03,  1.68288872e-03,\n",
      "        2.15464015e-03,  1.95926125e-03, -2.41335714e-03,  3.17836716e-03,\n",
      "        9.75542422e-03,  9.08685965e-04, -2.28845724e-03, -8.65816697e-03,\n",
      "       -7.01001985e-03, -2.69291084e-03,  1.17777579e-03, -2.16964819e-03,\n",
      "        8.02773796e-03, -7.78383389e-03, -6.53498434e-03, -1.07904803e-02,\n",
      "        7.96863344e-04,  5.29710902e-03, -6.01703627e-03,  5.06750774e-03,\n",
      "        2.80445232e-03, -2.27783201e-03,  3.99255473e-03, -6.97869924e-04,\n",
      "       -2.38579421e-04, -1.18454676e-02, -2.06095562e-03,  4.24298365e-03,\n",
      "       -6.15857914e-03,  9.51829646e-03, -8.54741258e-04, -2.63678492e-03,\n",
      "       -2.35239277e-03, -5.71822561e-03,  9.14458837e-03,  1.47548073e-03,\n",
      "       -4.77594277e-03,  8.61195102e-03, -4.92191454e-03, -1.09494980e-02,\n",
      "        7.05309026e-03, -1.30759245e-02, -2.56789685e-03,  1.34385983e-03,\n",
      "        6.69353781e-03,  1.83731935e-03, -4.18929756e-03,  4.63999063e-03,\n",
      "       -3.43468087e-03, -2.32337369e-03,  2.14902428e-03,  7.60176545e-03,\n",
      "        8.68511852e-04,  4.92931623e-03,  3.99927329e-03, -2.76527763e-03,\n",
      "       -1.93715817e-03, -4.50873142e-03,  2.92967976e-04, -1.04667793e-03,\n",
      "        3.65703297e-03,  4.67823632e-03,  6.65009720e-03,  6.86665578e-03,\n",
      "       -9.77462856e-04, -6.61285885e-04,  5.26388315e-03,  2.26293970e-03,\n",
      "       -1.44674524e-03, -3.71098565e-03, -5.60709508e-03, -2.22446700e-03,\n",
      "        3.51112243e-03,  3.74720013e-03,  7.44410791e-04, -2.67960969e-03,\n",
      "        1.05858035e-03,  2.48900789e-04,  6.01193449e-03, -7.35153584e-03,\n",
      "        6.17021369e-03, -1.57135783e-03,  2.75182235e-03,  7.27593945e-03,\n",
      "        4.42437269e-03, -8.03703163e-03, -2.69488688e-03, -1.07879089e-02,\n",
      "       -9.93982889e-04,  5.53575763e-03,  7.14144044e-05,  1.42624823e-03,\n",
      "       -1.96582550e-05,  1.36630423e-02,  2.53211777e-03,  1.66852050e-03],\n",
      "      dtype=float32), array([[ 0.19404435,  0.00118072, -0.09875084, ..., -0.37045115,\n",
      "         0.36686546, -0.1764617 ],\n",
      "       [-0.28680813,  0.13988166,  0.05005242, ..., -0.00613618,\n",
      "        -0.2174967 ,  0.23966385],\n",
      "       [ 0.08754896, -0.05579082, -0.20131135, ..., -0.3636946 ,\n",
      "         0.03128128,  0.10620907],\n",
      "       ...,\n",
      "       [ 0.28962   ,  0.16076438,  0.35787585, ...,  0.34907877,\n",
      "        -0.48486713,  0.21296471],\n",
      "       [-0.2065195 ,  0.41020048, -0.2731821 , ...,  0.3064441 ,\n",
      "         0.07782587,  0.01720613],\n",
      "       [-0.22180311, -0.21778484, -0.15941744, ...,  0.2110678 ,\n",
      "        -0.29349867,  0.09487375]], dtype=float32), array([ 0.0177009 , -0.08557228,  0.00518353, -0.01258193,  0.0368624 ,\n",
      "        0.04262452, -0.00474874, -0.04280255,  0.02346762,  0.0198666 ],\n",
      "      dtype=float32)]\n"
     ]
    },
    {
     "data": {
      "text/plain": [
       "array([[ 0.05462548, -0.04228503,  0.01418341, ..., -0.0663244 ,\n",
       "        -0.04459018, -0.0393944 ],\n",
       "       [-0.02329222, -0.05059307, -0.02586667, ...,  0.03078464,\n",
       "         0.02287617, -0.04051736],\n",
       "       [-0.04891748,  0.0122173 ,  0.06470804, ..., -0.03550461,\n",
       "         0.04300069, -0.03748894],\n",
       "       ...,\n",
       "       [-0.00616867, -0.0558772 , -0.00013889, ...,  0.0014256 ,\n",
       "         0.03827918,  0.00596883],\n",
       "       [ 0.00908642,  0.0466719 , -0.02584259, ..., -0.02970552,\n",
       "        -0.04200502, -0.01522023],\n",
       "       [ 0.02764605,  0.02412538,  0.06771864, ..., -0.06641862,\n",
       "         0.04066073, -0.03630875]], dtype=float32)"
      ]
     },
     "execution_count": 142,
     "metadata": {},
     "output_type": "execute_result"
    }
   ],
   "source": [
    "print(type(w_after))\n",
    "print(\"length of weigths\",w_after)\n",
    "w_after[0]"
   ]
  },
  {
   "cell_type": "code",
   "execution_count": 146,
   "metadata": {},
   "outputs": [],
   "source": [
    "\n",
    "h1_w = w_after[0].flatten().reshape(-1,1)\n",
    "h2_w = w_after[2].flatten().reshape(-1,1)\n",
    "out_w = w_after[4].flatten().reshape(-1,1)\n"
   ]
  },
  {
   "cell_type": "code",
   "execution_count": 147,
   "metadata": {},
   "outputs": [
    {
     "name": "stderr",
     "output_type": "stream",
     "text": [
      "C:\\Users\\admin\\AppData\\Local\\Programs\\Python\\Python36\\Lib\\site-packages\\scipy\\stats\\stats.py:1713: FutureWarning: Using a non-tuple sequence for multidimensional indexing is deprecated; use `arr[tuple(seq)]` instead of `arr[seq]`. In the future this will be interpreted as an array index, `arr[np.array(seq)]`, which will result either in an error or a different result.\n",
      "  return np.add.reduce(sorted[indexer] * weights, axis=axis) / sumval\n"
     ]
    },
    {
     "data": {
      "image/png": "[encoded data removed]",
      "text/plain": [
       "<Figure size 432x288 with 3 Axes>"
      ]
     },
     "metadata": {},
     "output_type": "display_data"
    }
   ],
   "source": [
    "import seaborn as sns\n",
    "fig = plt.figure()\n",
    "plt.title(\"Weight matrices after model trained\")\n",
    "plt.subplot(1, 3, 1)\n",
    "plt.title(\"Trained model Weights\")\n",
    "ax = sns.violinplot(y=h1_w,color='b')\n",
    "plt.xlabel('Hidden Layer 1')\n",
    "\n",
    "plt.subplot(1, 3, 2)\n",
    "plt.title(\"Trained model Weights\")\n",
    "ax = sns.violinplot(y=h2_w, color='r')\n",
    "plt.xlabel('Hidden Layer 2 ')\n",
    "\n",
    "plt.subplot(1, 3, 3)\n",
    "plt.title(\"Trained model Weights\")\n",
    "ax = sns.violinplot(y=out_w,color='y')\n",
    "plt.xlabel('Output Layer ')\n",
    "plt.show()"
   ]
  },
  {
   "cell_type": "markdown",
   "metadata": {},
   "source": [
    "# MLP+sigmoid activation_Adam"
   ]
  },
  {
   "cell_type": "code",
   "execution_count": 155,
   "metadata": {},
   "outputs": [
    {
     "name": "stdout",
     "output_type": "stream",
     "text": [
      "_________________________________________________________________\n",
      "Layer (type)                 Output Shape              Param #   \n",
      "=================================================================\n",
      "dense_20 (Dense)             (None, 512)               401920    \n",
      "_________________________________________________________________\n",
      "dense_21 (Dense)             (None, 128)               65664     \n",
      "_________________________________________________________________\n",
      "dense_22 (Dense)             (None, 10)                1290      \n",
      "=================================================================\n",
      "Total params: 468,874\n",
      "Trainable params: 468,874\n",
      "Non-trainable params: 0\n",
      "_________________________________________________________________\n"
     ]
    }
   ],
   "source": [
    "output_dim = 10\n",
    "input_dim = X_train.shape[1]\n",
    "model_sigmoid_adam=Sequential()\n",
    "model_sigmoid_adam.add(Dense(512,activation='sigmoid',input_dim=input_dim))\n",
    "model_sigmoid_adam.add(Dense(128,activation='sigmoid'))\n",
    "model_sigmoid_adam.add(Dense(10,activation='softmax'))\n",
    "model_sigmoid_adam.summary()"
   ]
  },
  {
   "cell_type": "code",
   "execution_count": 157,
   "metadata": {},
   "outputs": [
    {
     "name": "stdout",
     "output_type": "stream",
     "text": [
      "Train on 60000 samples, validate on 10000 samples\n",
      "Epoch 1/20\n",
      "60000/60000 [==============================] - 13s 222us/step - loss: 0.4703 - acc: 0.8754 - val_loss: 0.4468 - val_acc: 0.8821\n",
      "Epoch 2/20\n",
      "60000/60000 [==============================] - 12s 200us/step - loss: 0.4578 - acc: 0.8784 - val_loss: 0.4355 - val_acc: 0.8848\n",
      "Epoch 3/20\n",
      "60000/60000 [==============================] - 12s 207us/step - loss: 0.4466 - acc: 0.8805 - val_loss: 0.4247 - val_acc: 0.8866\n",
      "Epoch 4/20\n",
      "60000/60000 [==============================] - 12s 204us/step - loss: 0.4365 - acc: 0.8830 - val_loss: 0.4146 - val_acc: 0.8882ss: 0.4366 - acc: 0.882\n",
      "Epoch 5/20\n",
      "60000/60000 [==============================] - 13s 221us/step - loss: 0.4273 - acc: 0.8845 - val_loss: 0.4067 - val_acc: 0.8899\n",
      "Epoch 6/20\n",
      "60000/60000 [==============================] - 12s 196us/step - loss: 0.4190 - acc: 0.8863 - val_loss: 0.3983 - val_acc: 0.8912\n",
      "Epoch 7/20\n",
      "60000/60000 [==============================] - 12s 194us/step - loss: 0.4115 - acc: 0.8877 - val_loss: 0.3918 - val_acc: 0.8930\n",
      "Epoch 8/20\n",
      "60000/60000 [==============================] - 12s 198us/step - loss: 0.4046 - acc: 0.8890 - val_loss: 0.3851 - val_acc: 0.8929\n",
      "Epoch 9/20\n",
      "60000/60000 [==============================] - 12s 198us/step - loss: 0.3983 - acc: 0.8909 - val_loss: 0.3796 - val_acc: 0.8942\n",
      "Epoch 10/20\n",
      "60000/60000 [==============================] - 11s 185us/step - loss: 0.3924 - acc: 0.8918 - val_loss: 0.3744 - val_acc: 0.8957\n",
      "Epoch 11/20\n",
      "60000/60000 [==============================] - 11s 180us/step - loss: 0.3869 - acc: 0.8928 - val_loss: 0.3686 - val_acc: 0.8968\n",
      "Epoch 12/20\n",
      "60000/60000 [==============================] - 11s 177us/step - loss: 0.3819 - acc: 0.8939 - val_loss: 0.3649 - val_acc: 0.8981\n",
      "Epoch 13/20\n",
      "60000/60000 [==============================] - 10s 163us/step - loss: 0.3773 - acc: 0.8952 - val_loss: 0.3598 - val_acc: 0.8985\n",
      "Epoch 14/20\n",
      "60000/60000 [==============================] - 12s 199us/step - loss: 0.3729 - acc: 0.8960 - val_loss: 0.3557 - val_acc: 0.8993\n",
      "Epoch 15/20\n",
      "60000/60000 [==============================] - 13s 215us/step - loss: 0.3689 - acc: 0.8966 - val_loss: 0.3526 - val_acc: 0.9003\n",
      "Epoch 16/20\n",
      "60000/60000 [==============================] - 11s 179us/step - loss: 0.3651 - acc: 0.8976 - val_loss: 0.3483 - val_acc: 0.9011366 - ETA: 4s - lo - ETA: 2\n",
      "Epoch 17/20\n",
      "60000/60000 [==============================] - 11s 185us/step - loss: 0.3615 - acc: 0.8987 - val_loss: 0.3449 - val_acc: 0.9020\n",
      "Epoch 18/20\n",
      "60000/60000 [==============================] - 11s 182us/step - loss: 0.3581 - acc: 0.8992 - val_loss: 0.3420 - val_acc: 0.9022\n",
      "Epoch 19/20\n",
      "60000/60000 [==============================] - 12s 198us/step - loss: 0.3549 - acc: 0.8996 - val_loss: 0.3393 - val_acc: 0.9019\n",
      "Epoch 20/20\n",
      "60000/60000 [==============================] - 12s 198us/step - loss: 0.3519 - acc: 0.9008 - val_loss: 0.3367 - val_acc: 0.9036\n"
     ]
    }
   ],
   "source": [
    "model_sigmoid_adam.compile(optimizer='adam',loss='categorical_crossentropy', metrics=['accuracy'])\n",
    "history = model_sigmoid.fit(X_train, Y_train, batch_size=batch_size, epochs=nb_epochs, verbose=1, validation_data=(X_test, Y_test))"
   ]
  },
  {
   "cell_type": "code",
   "execution_count": 158,
   "metadata": {},
   "outputs": [
    {
     "name": "stdout",
     "output_type": "stream",
     "text": [
      "Test score: 0.3366688088297844\n",
      "Test accuracy: 0.9036\n"
     ]
    }
   ],
   "source": [
    "score = model_sigmoid.evaluate(X_test, Y_test, verbose=0) \n",
    "print('Test score:', score[0]) \n",
    "print('Test accuracy:', score[1])\n"
   ]
  },
  {
   "cell_type": "code",
   "execution_count": 162,
   "metadata": {},
   "outputs": [
    {
     "data": {
      "image/png": "[encoded data removed]",
      "text/plain": [
       "<Figure size 432x288 with 1 Axes>"
      ]
     },
     "metadata": {},
     "output_type": "display_data"
    }
   ],
   "source": [
    "fig,ax = plt.subplots(1,1)\n",
    "ax.set_xlabel('epoch') ; ax.set_ylabel('Categorical Crossentropy Loss')\n",
    "\n",
    "# list of epoch numbers\n",
    "x = list(range(1,nb_epochs+1))\n",
    "\n",
    "# print(history.history.keys())\n",
    "# dict_keys(['val_loss', 'val_acc', 'loss', 'acc'])\n",
    "# history = model_drop.fit(X_train, Y_train, batch_size=batch_size, epochs=nb_epoch, verbose=1, validation_data=(X_test, Y_test))\n",
    "\n",
    "# we will get val_loss and val_acc only when you pass the paramter validation_data\n",
    "# val_loss : validation loss\n",
    "# val_acc : validation accuracy\n",
    "\n",
    "# loss : training loss\n",
    "# acc : train accuracy\n",
    "# for each key in histrory.histrory we will have a list of length equal to number of epochs\n",
    "\n",
    "vy = history.history['val_loss']\n",
    "ty = history.history['loss']\n",
    "plt_dynamic(x, vy, ty, ax)"
   ]
  },
  {
   "cell_type": "code",
   "execution_count": 164,
   "metadata": {},
   "outputs": [
    {
     "name": "stderr",
     "output_type": "stream",
     "text": [
      "C:\\Users\\admin\\AppData\\Local\\Programs\\Python\\Python36\\Lib\\site-packages\\scipy\\stats\\stats.py:1713: FutureWarning: Using a non-tuple sequence for multidimensional indexing is deprecated; use `arr[tuple(seq)]` instead of `arr[seq]`. In the future this will be interpreted as an array index, `arr[np.array(seq)]`, which will result either in an error or a different result.\n",
      "  return np.add.reduce(sorted[indexer] * weights, axis=axis) / sumval\n"
     ]
    },
    {
     "data": {
      "image/png": "[encoded data removed]",
      "text/plain": [
       "<Figure size 432x288 with 3 Axes>"
      ]
     },
     "metadata": {},
     "output_type": "display_data"
    }
   ],
   "source": [
    "w_after = model_sigmoid.get_weights()\n",
    "\n",
    "h1_w = w_after[0].flatten().reshape(-1,1)\n",
    "h2_w = w_after[2].flatten().reshape(-1,1)\n",
    "out_w = w_after[4].flatten().reshape(-1,1)\n",
    "\n",
    "\n",
    "fig = plt.figure()\n",
    "plt.title(\"Weight matrices after model trained\")\n",
    "plt.subplot(1, 3, 1)\n",
    "plt.title(\"Trained model Weights\")\n",
    "ax = sns.violinplot(y=h1_w,color='b')\n",
    "plt.xlabel('Hidden Layer 1')\n",
    "\n",
    "plt.subplot(1, 3, 2)\n",
    "plt.title(\"Trained model Weights\")\n",
    "ax = sns.violinplot(y=h2_w, color='r')\n",
    "plt.xlabel('Hidden Layer 2 ')\n",
    "\n",
    "plt.subplot(1, 3, 3)\n",
    "plt.title(\"Trained model Weights\")\n",
    "ax = sns.violinplot(y=out_w,color='y')\n",
    "plt.xlabel('Output Layer ')\n",
    "plt.show()"
   ]
  },
  {
   "cell_type": "markdown",
   "metadata": {},
   "source": [
    "# MLP+RElu+Adam"
   ]
  },
  {
   "cell_type": "code",
   "execution_count": 165,
   "metadata": {},
   "outputs": [
    {
     "name": "stdout",
     "output_type": "stream",
     "text": [
      "_________________________________________________________________\n",
      "Layer (type)                 Output Shape              Param #   \n",
      "=================================================================\n",
      "dense_23 (Dense)             (None, 512)               401920    \n",
      "_________________________________________________________________\n",
      "dense_24 (Dense)             (None, 128)               65664     \n",
      "_________________________________________________________________\n",
      "dense_25 (Dense)             (None, 10)                1290      \n",
      "=================================================================\n",
      "Total params: 468,874\n",
      "Trainable params: 468,874\n",
      "Non-trainable params: 0\n",
      "_________________________________________________________________\n"
     ]
    }
   ],
   "source": [
    "model_relu = Sequential()\n",
    "model_relu.add(Dense(512, activation='relu', input_shape=(input_dim,), kernel_initializer=RandomNormal(mean=0.0, stddev=0.062, seed=None)))\n",
    "model_relu.add(Dense(128, activation='relu', kernel_initializer=RandomNormal(mean=0.0, stddev=0.125, seed=None)) )\n",
    "model_relu.add(Dense(output_dim, activation='softmax'))\n",
    "\n",
    "model_relu.summary()"
   ]
  },
  {
   "cell_type": "code",
   "execution_count": 167,
   "metadata": {},
   "outputs": [
    {
     "name": "stdout",
     "output_type": "stream",
     "text": [
      "_________________________________________________________________\n",
      "Layer (type)                 Output Shape              Param #   \n",
      "=================================================================\n",
      "dense_23 (Dense)             (None, 512)               401920    \n",
      "_________________________________________________________________\n",
      "dense_24 (Dense)             (None, 128)               65664     \n",
      "_________________________________________________________________\n",
      "dense_25 (Dense)             (None, 10)                1290      \n",
      "=================================================================\n",
      "Total params: 468,874\n",
      "Trainable params: 468,874\n",
      "Non-trainable params: 0\n",
      "_________________________________________________________________\n",
      "None\n",
      "Train on 60000 samples, validate on 10000 samples\n",
      "Epoch 1/20\n",
      "60000/60000 [==============================] - 18s 307us/step - loss: 0.2240 - acc: 0.9337 - val_loss: 0.1156 - val_acc: 0.9632\n",
      "Epoch 2/20\n",
      "60000/60000 [==============================] - 17s 281us/step - loss: 0.0868 - acc: 0.9738 - val_loss: 0.0885 - val_acc: 0.9726\n",
      "Epoch 3/20\n",
      "60000/60000 [==============================] - 14s 230us/step - loss: 0.0539 - acc: 0.9837 - val_loss: 0.0714 - val_acc: 0.9775\n",
      "Epoch 4/20\n",
      "60000/60000 [==============================] - 16s 272us/step - loss: 0.0374 - acc: 0.9879 - val_loss: 0.0758 - val_acc: 0.9764\n",
      "Epoch 5/20\n",
      "60000/60000 [==============================] - 14s 241us/step - loss: 0.0268 - acc: 0.9919 - val_loss: 0.0660 - val_acc: 0.9806\n",
      "Epoch 6/20\n",
      "60000/60000 [==============================] - 16s 259us/step - loss: 0.0190 - acc: 0.9941 - val_loss: 0.0799 - val_acc: 0.9766\n",
      "Epoch 7/20\n",
      "60000/60000 [==============================] - 14s 234us/step - loss: 0.0178 - acc: 0.9938 - val_loss: 0.0810 - val_acc: 0.9787\n",
      "Epoch 8/20\n",
      "60000/60000 [==============================] - 15s 256us/step - loss: 0.0140 - acc: 0.9956 - val_loss: 0.0815 - val_acc: 0.9782\n",
      "Epoch 9/20\n",
      "60000/60000 [==============================] - 13s 223us/step - loss: 0.0128 - acc: 0.9960 - val_loss: 0.0790 - val_acc: 0.9788\n",
      "Epoch 10/20\n",
      "60000/60000 [==============================] - 13s 225us/step - loss: 0.0114 - acc: 0.9960 - val_loss: 0.0811 - val_acc: 0.9800\n",
      "Epoch 11/20\n",
      "60000/60000 [==============================] - 16s 267us/step - loss: 0.0115 - acc: 0.9961 - val_loss: 0.0789 - val_acc: 0.9805\n",
      "Epoch 12/20\n",
      "60000/60000 [==============================] - 15s 248us/step - loss: 0.0105 - acc: 0.9965 - val_loss: 0.0955 - val_acc: 0.9787\n",
      "Epoch 13/20\n",
      "60000/60000 [==============================] - 15s 247us/step - loss: 0.0097 - acc: 0.9970 - val_loss: 0.0814 - val_acc: 0.9819\n",
      "Epoch 14/20\n",
      "60000/60000 [==============================] - 16s 274us/step - loss: 0.0091 - acc: 0.9969 - val_loss: 0.0905 - val_acc: 0.9782\n",
      "Epoch 15/20\n",
      "60000/60000 [==============================] - 15s 250us/step - loss: 0.0082 - acc: 0.9974 - val_loss: 0.1070 - val_acc: 0.9755\n",
      "Epoch 16/20\n",
      "60000/60000 [==============================] - 15s 242us/step - loss: 0.0043 - acc: 0.9988 - val_loss: 0.0819 - val_acc: 0.9814\n",
      "Epoch 17/20\n",
      "60000/60000 [==============================] - 14s 235us/step - loss: 0.0112 - acc: 0.9964 - val_loss: 0.1055 - val_acc: 0.9772\n",
      "Epoch 18/20\n",
      "60000/60000 [==============================] - 14s 238us/step - loss: 0.0083 - acc: 0.9972 - val_loss: 0.0928 - val_acc: 0.9795\n",
      "Epoch 19/20\n",
      "60000/60000 [==============================] - 16s 263us/step - loss: 0.0039 - acc: 0.9988 - val_loss: 0.0883 - val_acc: 0.9826\n",
      "Epoch 20/20\n",
      "60000/60000 [==============================] - 16s 266us/step - loss: 0.0082 - acc: 0.9973 - val_loss: 0.1107 - val_acc: 0.9768\n"
     ]
    }
   ],
   "source": [
    "print(model_relu.summary())\n",
    "\n",
    "model_relu.compile(optimizer='adam', loss='categorical_crossentropy', metrics=['accuracy'])\n",
    "\n",
    "history = model_relu.fit(X_train, Y_train, batch_size=batch_size, epochs=nb_epochs, verbose=1, validation_data=(X_test, Y_test))"
   ]
  },
  {
   "cell_type": "code",
   "execution_count": 168,
   "metadata": {},
   "outputs": [
    {
     "name": "stdout",
     "output_type": "stream",
     "text": [
      "Test score: 0.11066463198367196\n",
      "Test accuracy: 0.9768\n"
     ]
    },
    {
     "data": {
      "image/png": "[encoded data removed]",
      "text/plain": [
       "<Figure size 432x288 with 1 Axes>"
      ]
     },
     "metadata": {},
     "output_type": "display_data"
    }
   ],
   "source": [
    "score = model_relu.evaluate(X_test, Y_test, verbose=0) \n",
    "print('Test score:', score[0]) \n",
    "print('Test accuracy:', score[1])\n",
    "\n",
    "fig,ax = plt.subplots(1,1)\n",
    "ax.set_xlabel('epoch') ; ax.set_ylabel('Categorical Crossentropy Loss')\n",
    "\n",
    "# list of epoch numbers\n",
    "x = list(range(1,nb_epochs+1))\n",
    "\n",
    "vy = history.history['val_loss']\n",
    "ty = history.history['loss']\n",
    "plt_dynamic(x, vy, ty, ax)"
   ]
  },
  {
   "cell_type": "code",
   "execution_count": 170,
   "metadata": {},
   "outputs": [
    {
     "name": "stderr",
     "output_type": "stream",
     "text": [
      "C:\\Users\\admin\\AppData\\Local\\Programs\\Python\\Python36\\Lib\\site-packages\\scipy\\stats\\stats.py:1713: FutureWarning: Using a non-tuple sequence for multidimensional indexing is deprecated; use `arr[tuple(seq)]` instead of `arr[seq]`. In the future this will be interpreted as an array index, `arr[np.array(seq)]`, which will result either in an error or a different result.\n",
      "  return np.add.reduce(sorted[indexer] * weights, axis=axis) / sumval\n"
     ]
    },
    {
     "data": {
      "image/png": "[encoded data removed]",
      "text/plain": [
       "<Figure size 432x288 with 3 Axes>"
      ]
     },
     "metadata": {},
     "output_type": "display_data"
    }
   ],
   "source": [
    "w_after = model_relu.get_weights()\n",
    "\n",
    "h1_w = w_after[0].flatten().reshape(-1,1)\n",
    "h2_w = w_after[2].flatten().reshape(-1,1)\n",
    "out_w = w_after[4].flatten().reshape(-1,1)\n",
    "\n",
    "\n",
    "fig = plt.figure()\n",
    "plt.title(\"Weight matrices after model trained\")\n",
    "plt.subplot(1, 3, 1)\n",
    "plt.title(\"Trained model Weights\")\n",
    "ax = sns.violinplot(y=h1_w,color='b')\n",
    "plt.xlabel('Hidden Layer 1')\n",
    "\n",
    "plt.subplot(1, 3, 2)\n",
    "plt.title(\"Trained model Weights\")\n",
    "ax = sns.violinplot(y=h2_w, color='r')\n",
    "plt.xlabel('Hidden Layer 2 ')\n",
    "\n",
    "plt.subplot(1, 3, 3)\n",
    "plt.title(\"Trained model Weights\")\n",
    "ax = sns.violinplot(y=out_w,color='y')\n",
    "plt.xlabel('Output Layer ')\n",
    "plt.show()"
   ]
  },
  {
   "cell_type": "markdown",
   "metadata": {},
   "source": [
    "# MLP+Relu+Adam+batch normalization"
   ]
  },
  {
   "cell_type": "code",
   "execution_count": 172,
   "metadata": {},
   "outputs": [
    {
     "name": "stdout",
     "output_type": "stream",
     "text": [
      "_________________________________________________________________\n",
      "Layer (type)                 Output Shape              Param #   \n",
      "=================================================================\n",
      "dense_27 (Dense)             (None, 512)               401920    \n",
      "_________________________________________________________________\n",
      "batch_normalization_1 (Batch (None, 512)               2048      \n",
      "_________________________________________________________________\n",
      "dense_28 (Dense)             (None, 128)               65664     \n",
      "_________________________________________________________________\n",
      "batch_normalization_2 (Batch (None, 128)               512       \n",
      "_________________________________________________________________\n",
      "dense_29 (Dense)             (None, 10)                1290      \n",
      "=================================================================\n",
      "Total params: 471,434\n",
      "Trainable params: 470,154\n",
      "Non-trainable params: 1,280\n",
      "_________________________________________________________________\n"
     ]
    }
   ],
   "source": [
    "from keras.layers.normalization import BatchNormalization\n",
    "\n",
    "model_batch = Sequential()\n",
    "\n",
    "model_batch.add(Dense(512, activation='relu', input_shape=(input_dim,), kernel_initializer=RandomNormal(mean=0.0, stddev=0.039, seed=None)))\n",
    "model_batch.add(BatchNormalization())\n",
    "\n",
    "model_batch.add(Dense(128, activation='relu', kernel_initializer=RandomNormal(mean=0.0, stddev=0.55, seed=None)) )\n",
    "model_batch.add(BatchNormalization())\n",
    "\n",
    "model_batch.add(Dense(output_dim, activation='softmax'))\n",
    "model_batch.summary()"
   ]
  },
  {
   "cell_type": "code",
   "execution_count": 174,
   "metadata": {},
   "outputs": [
    {
     "name": "stdout",
     "output_type": "stream",
     "text": [
      "Train on 60000 samples, validate on 10000 samples\n",
      "Epoch 1/20\n",
      "60000/60000 [==============================] - 20s 333us/step - loss: 0.1939 - acc: 0.9420 - val_loss: 0.1118 - val_acc: 0.9664\n",
      "Epoch 2/20\n",
      "60000/60000 [==============================] - 19s 311us/step - loss: 0.0753 - acc: 0.9775 - val_loss: 0.1025 - val_acc: 0.9671\n",
      "Epoch 3/20\n",
      "60000/60000 [==============================] - 16s 267us/step - loss: 0.0479 - acc: 0.9855 - val_loss: 0.0813 - val_acc: 0.9751\n",
      "Epoch 4/20\n",
      "60000/60000 [==============================] - 17s 287us/step - loss: 0.0334 - acc: 0.9899 - val_loss: 0.0809 - val_acc: 0.9764\n",
      "Epoch 5/20\n",
      "60000/60000 [==============================] - 17s 278us/step - loss: 0.0248 - acc: 0.9924 - val_loss: 0.0782 - val_acc: 0.9759\n",
      "Epoch 6/20\n",
      "60000/60000 [==============================] - 16s 273us/step - loss: 0.0183 - acc: 0.9944 - val_loss: 0.0824 - val_acc: 0.9759\n",
      "Epoch 7/20\n",
      "60000/60000 [==============================] - 16s 266us/step - loss: 0.0174 - acc: 0.9949 - val_loss: 0.0730 - val_acc: 0.9794\n",
      "Epoch 8/20\n",
      "60000/60000 [==============================] - 16s 274us/step - loss: 0.0147 - acc: 0.9953 - val_loss: 0.0762 - val_acc: 0.9773\n",
      "Epoch 9/20\n",
      "60000/60000 [==============================] - 17s 277us/step - loss: 0.0148 - acc: 0.9952 - val_loss: 0.0893 - val_acc: 0.9722\n",
      "Epoch 10/20\n",
      "60000/60000 [==============================] - 17s 281us/step - loss: 0.0125 - acc: 0.9961 - val_loss: 0.0785 - val_acc: 0.9767\n",
      "Epoch 11/20\n",
      "60000/60000 [==============================] - 19s 308us/step - loss: 0.0114 - acc: 0.9964 - val_loss: 0.0741 - val_acc: 0.9813\n",
      "Epoch 12/20\n",
      "60000/60000 [==============================] - 17s 275us/step - loss: 0.0107 - acc: 0.9965 - val_loss: 0.0767 - val_acc: 0.9813\n",
      "Epoch 13/20\n",
      "60000/60000 [==============================] - 19s 315us/step - loss: 0.0093 - acc: 0.9969 - val_loss: 0.0781 - val_acc: 0.9780\n",
      "Epoch 14/20\n",
      "60000/60000 [==============================] - 16s 274us/step - loss: 0.0085 - acc: 0.9974 - val_loss: 0.0850 - val_acc: 0.9767\n",
      "Epoch 15/20\n",
      "60000/60000 [==============================] - 17s 275us/step - loss: 0.0077 - acc: 0.9976 - val_loss: 0.0903 - val_acc: 0.9778\n",
      "Epoch 16/20\n",
      "60000/60000 [==============================] - 15s 247us/step - loss: 0.0079 - acc: 0.9974 - val_loss: 0.0723 - val_acc: 0.9807\n",
      "Epoch 17/20\n",
      "60000/60000 [==============================] - 17s 280us/step - loss: 0.0075 - acc: 0.9976 - val_loss: 0.0783 - val_acc: 0.9802\n",
      "Epoch 18/20\n",
      "60000/60000 [==============================] - 17s 284us/step - loss: 0.0073 - acc: 0.9977 - val_loss: 0.0769 - val_acc: 0.9810\n",
      "Epoch 19/20\n",
      "60000/60000 [==============================] - 17s 288us/step - loss: 0.0075 - acc: 0.9973 - val_loss: 0.0737 - val_acc: 0.9810\n",
      "Epoch 20/20\n",
      "60000/60000 [==============================] - 16s 266us/step - loss: 0.0064 - acc: 0.9980 - val_loss: 0.0819 - val_acc: 0.9795\n"
     ]
    }
   ],
   "source": [
    "model_batch.compile(optimizer='adam', loss='categorical_crossentropy', metrics=['accuracy'])\n",
    "\n",
    "history = model_batch.fit(X_train, Y_train, batch_size=batch_size, epochs=nb_epochs, verbose=1, validation_data=(X_test, Y_test))"
   ]
  },
  {
   "cell_type": "code",
   "execution_count": 175,
   "metadata": {},
   "outputs": [
    {
     "name": "stdout",
     "output_type": "stream",
     "text": [
      "Test score: 0.0818752262199654\n",
      "Test accuracy: 0.9795\n"
     ]
    },
    {
     "data": {
      "image/png": "[encoded data removed]",
      "text/plain": [
       "<Figure size 432x288 with 1 Axes>"
      ]
     },
     "metadata": {},
     "output_type": "display_data"
    }
   ],
   "source": [
    "score = model_batch.evaluate(X_test, Y_test, verbose=0) \n",
    "print('Test score:', score[0]) \n",
    "print('Test accuracy:', score[1])\n",
    "\n",
    "fig,ax = plt.subplots(1,1)\n",
    "ax.set_xlabel('epoch') ; ax.set_ylabel('Categorical Crossentropy Loss')\n",
    "\n",
    "# list of epoch numbers\n",
    "x = list(range(1,nb_epochs+1))\n",
    "\n",
    "# print(history.history.keys())\n",
    "# dict_keys(['val_loss', 'val_acc', 'loss', 'acc'])\n",
    "# history = model_drop.fit(X_train, Y_train, batch_size=batch_size, epochs=nb_epoch, verbose=1, validation_data=(X_test, Y_test))\n",
    "\n",
    "# we will get val_loss and val_acc only when you pass the paramter validation_data\n",
    "# val_loss : validation loss\n",
    "# val_acc : validation accuracy\n",
    "\n",
    "# loss : training loss\n",
    "# acc : train accuracy\n",
    "# for each key in histrory.histrory we will have a list of length equal to number of epochs\n",
    "\n",
    "vy = history.history['val_loss']\n",
    "ty = history.history['loss']\n",
    "plt_dynamic(x, vy, ty, ax)"
   ]
  },
  {
   "cell_type": "code",
   "execution_count": 176,
   "metadata": {},
   "outputs": [
    {
     "name": "stderr",
     "output_type": "stream",
     "text": [
      "C:\\Users\\admin\\AppData\\Local\\Programs\\Python\\Python36\\Lib\\site-packages\\scipy\\stats\\stats.py:1713: FutureWarning: Using a non-tuple sequence for multidimensional indexing is deprecated; use `arr[tuple(seq)]` instead of `arr[seq]`. In the future this will be interpreted as an array index, `arr[np.array(seq)]`, which will result either in an error or a different result.\n",
      "  return np.add.reduce(sorted[indexer] * weights, axis=axis) / sumval\n"
     ]
    },
    {
     "data": {
      "image/png": "[encoded data removed]",
      "text/plain": [
       "<Figure size 432x288 with 3 Axes>"
      ]
     },
     "metadata": {},
     "output_type": "display_data"
    }
   ],
   "source": [
    "w_after = model_batch.get_weights()\n",
    "\n",
    "h1_w = w_after[0].flatten().reshape(-1,1)\n",
    "h2_w = w_after[2].flatten().reshape(-1,1)\n",
    "out_w = w_after[4].flatten().reshape(-1,1)\n",
    "\n",
    "\n",
    "fig = plt.figure()\n",
    "plt.title(\"Weight matrices after model trained\")\n",
    "plt.subplot(1, 3, 1)\n",
    "plt.title(\"Trained model Weights\")\n",
    "ax = sns.violinplot(y=h1_w,color='b')\n",
    "plt.xlabel('Hidden Layer 1')\n",
    "\n",
    "plt.subplot(1, 3, 2)\n",
    "plt.title(\"Trained model Weights\")\n",
    "ax = sns.violinplot(y=h2_w, color='r')\n",
    "plt.xlabel('Hidden Layer 2 ')\n",
    "\n",
    "plt.subplot(1, 3, 3)\n",
    "plt.title(\"Trained model Weights\")\n",
    "ax = sns.violinplot(y=out_w,color='y')\n",
    "plt.xlabel('Output Layer ')\n",
    "plt.show()"
   ]
  },
  {
   "cell_type": "markdown",
   "metadata": {},
   "source": [
    "# MLP+dropout+Adamoptimizer+batch normalization"
   ]
  },
  {
   "cell_type": "code",
   "execution_count": 177,
   "metadata": {},
   "outputs": [
    {
     "name": "stdout",
     "output_type": "stream",
     "text": [
      "_________________________________________________________________\n",
      "Layer (type)                 Output Shape              Param #   \n",
      "=================================================================\n",
      "dense_30 (Dense)             (None, 512)               401920    \n",
      "_________________________________________________________________\n",
      "batch_normalization_3 (Batch (None, 512)               2048      \n",
      "_________________________________________________________________\n",
      "dropout_1 (Dropout)          (None, 512)               0         \n",
      "_________________________________________________________________\n",
      "dense_31 (Dense)             (None, 128)               65664     \n",
      "_________________________________________________________________\n",
      "batch_normalization_4 (Batch (None, 128)               512       \n",
      "_________________________________________________________________\n",
      "dropout_2 (Dropout)          (None, 128)               0         \n",
      "_________________________________________________________________\n",
      "dense_32 (Dense)             (None, 10)                1290      \n",
      "=================================================================\n",
      "Total params: 471,434\n",
      "Trainable params: 470,154\n",
      "Non-trainable params: 1,280\n",
      "_________________________________________________________________\n"
     ]
    }
   ],
   "source": [
    "# https://stackoverflow.cBatchNorkeras.layersyersyers/qiimport mport port ort tions/34716454/where-do-i-call-the-batchnormalization-function-in-keras\n",
    "\n",
    "from keras.layers import Dropout\n",
    "\n",
    "model_drop = Sequential()\n",
    "\n",
    "model_drop.add(Dense(512, activation='sigmoid', input_shape=(input_dim,), kernel_initializer=RandomNormal(mean=0.0, stddev=0.039, seed=None)))\n",
    "model_drop.add(BatchNormalization())\n",
    "model_drop.add(Dropout(0.5))\n",
    "\n",
    "model_drop.add(Dense(128, activation='sigmoid', kernel_initializer=RandomNormal(mean=0.0, stddev=0.55, seed=None)) )\n",
    "model_drop.add(BatchNormalization())\n",
    "model_drop.add(Dropout(0.5))\n",
    "\n",
    "model_drop.add(Dense(output_dim, activation='softmax'))\n",
    "\n",
    "\n",
    "model_drop.summary()"
   ]
  },
  {
   "cell_type": "code",
   "execution_count": 178,
   "metadata": {},
   "outputs": [
    {
     "ename": "NameError",
     "evalue": "name 'nb_epoch' is not defined",
     "output_type": "error",
     "traceback": [
      "\u001b[1;31m---------------------------------------------------------------------------\u001b[0m",
      "\u001b[1;31mNameError\u001b[0m                                 Traceback (most recent call last)",
      "\u001b[1;32m<ipython-input-178-401cda37c3fa>\u001b[0m in \u001b[0;36m<module>\u001b[1;34m()\u001b[0m\n\u001b[0;32m      1\u001b[0m \u001b[0mmodel_drop\u001b[0m\u001b[1;33m.\u001b[0m\u001b[0mcompile\u001b[0m\u001b[1;33m(\u001b[0m\u001b[0moptimizer\u001b[0m\u001b[1;33m=\u001b[0m\u001b[1;34m'adam'\u001b[0m\u001b[1;33m,\u001b[0m \u001b[0mloss\u001b[0m\u001b[1;33m=\u001b[0m\u001b[1;34m'categorical_crossentropy'\u001b[0m\u001b[1;33m,\u001b[0m \u001b[0mmetrics\u001b[0m\u001b[1;33m=\u001b[0m\u001b[1;33m[\u001b[0m\u001b[1;34m'accuracy'\u001b[0m\u001b[1;33m]\u001b[0m\u001b[1;33m)\u001b[0m\u001b[1;33m\u001b[0m\u001b[0m\n\u001b[0;32m      2\u001b[0m \u001b[1;33m\u001b[0m\u001b[0m\n\u001b[1;32m----> 3\u001b[1;33m \u001b[0mhistory\u001b[0m \u001b[1;33m=\u001b[0m \u001b[0mmodel_drop\u001b[0m\u001b[1;33m.\u001b[0m\u001b[0mfit\u001b[0m\u001b[1;33m(\u001b[0m\u001b[0mX_train\u001b[0m\u001b[1;33m,\u001b[0m \u001b[0mY_train\u001b[0m\u001b[1;33m,\u001b[0m \u001b[0mbatch_size\u001b[0m\u001b[1;33m=\u001b[0m\u001b[0mbatch_size\u001b[0m\u001b[1;33m,\u001b[0m \u001b[0mepochs\u001b[0m\u001b[1;33m=\u001b[0m\u001b[0mnb_epoch\u001b[0m\u001b[1;33m,\u001b[0m \u001b[0mverbose\u001b[0m\u001b[1;33m=\u001b[0m\u001b[1;36m1\u001b[0m\u001b[1;33m,\u001b[0m \u001b[0mvalidation_data\u001b[0m\u001b[1;33m=\u001b[0m\u001b[1;33m(\u001b[0m\u001b[0mX_test\u001b[0m\u001b[1;33m,\u001b[0m \u001b[0mY_test\u001b[0m\u001b[1;33m)\u001b[0m\u001b[1;33m)\u001b[0m\u001b[1;33m\u001b[0m\u001b[0m\n\u001b[0m",
      "\u001b[1;31mNameError\u001b[0m: name 'nb_epoch' is not defined"
     ]
    }
   ],
   "source": [
    "model_drop.compile(optimizer='adam', loss='categorical_crossentropy', metrics=['accuracy'])\n",
    "\n",
    "history = model_drop.fit(X_train, Y_train, batch_size=batch_size, epochs=nb_epoch, verbose=1, validation_data=(X_test, Y_test))"
   ]
  },
  {
   "cell_type": "code",
   "execution_count": null,
   "metadata": {},
   "outputs": [],
   "source": [
    "score = model_drop.evaluate(X_test, Y_test, verbose=0) \n",
    "print('Test score:', score[0]) \n",
    "print('Test accuracy:', score[1])\n",
    "\n",
    "fig,ax = plt.subplots(1,1)\n",
    "ax.set_xlabel('epoch') ; ax.set_ylabel('Categorical Crossentropy Loss')\n",
    "\n",
    "# list of epoch numbers\n",
    "x = list(range(1,nb_epoch+1))\n",
    "\n",
    "# print(history.history.keys())\n",
    "# dict_keys(['val_loss', 'val_acc', 'loss', 'acc'])\n",
    "# history = model_drop.fit(X_train, Y_train, batch_size=batch_size, epochs=nb_epoch, verbose=1, validation_data=(X_test, Y_test))\n",
    "\n",
    "# we will get val_loss and val_acc only when you pass the paramter validation_data\n",
    "# val_loss : validation loss\n",
    "# val_acc : validation accuracy\n",
    "\n",
    "# loss : training loss\n",
    "# acc : train accuracy\n",
    "# for each key in histrory.histrory we will have a list of length equal to number of epochs\n",
    "\n",
    "vy = history.history['val_loss']\n",
    "ty = history.history['loss']\n",
    "plt_dynamic(x, vy, ty, ax)"
   ]
  },
  {
   "cell_type": "markdown",
   "metadata": {},
   "source": [
    "# Hyper parameter tuning of keras model using sklearn"
   ]
  },
  {
   "cell_type": "code",
   "execution_count": 179,
   "metadata": {},
   "outputs": [],
   "source": [
    "from keras.optimizers import Adam,RMSprop,SGD\n",
    "def best_hyperparameters(activ):\n",
    "\n",
    "    model = Sequential()\n",
    "    model.add(Dense(512, activation=activ, input_shape=(input_dim,), kernel_initializer=RandomNormal(mean=0.0, stddev=0.062, seed=None)))\n",
    "    model.add(Dense(128, activation=activ, kernel_initializer=RandomNormal(mean=0.0, stddev=0.125, seed=None)) )\n",
    "    model.add(Dense(output_dim, activation='softmax'))\n",
    "\n",
    "\n",
    "    model.compile(loss='categorical_crossentropy', metrics=['accuracy'], optimizer='adam')\n",
    "    \n",
    "    return model"
   ]
  },
  {
   "cell_type": "code",
   "execution_count": null,
   "metadata": {},
   "outputs": [],
   "source": [
    "# https://machinelearningmastery.com/grid-search-hyperparameters-deep-learning-models-python-keras/\n",
    "\n",
    "activ = ['sigmoid','relu']\n",
    "\n",
    "from keras.wrappers.scikit_learn import KerasClassifier\n",
    "from sklearn.model_selection import GridSearchCV\n",
    "\n",
    "model = KerasClassifier(build_fn=best_hyperparameters, epochs=nb_epochs, batch_size=batch_size, verbose=0)\n",
    "param_grid = dict(activ=activ)\n",
    "\n",
    "# if you are using CPU\n",
    "# grid = GridSearchCV(estimator=model, param_grid=param_grid, n_jobs=-1)\n",
    "# if you are using GPU dont use the n_jobs parameter\n",
    "\n",
    "grid = GridSearchCV(estimator=model, param_grid=param_grid)\n",
    "grid_result = grid.fit(X_train, Y_train)"
   ]
  },
  {
   "cell_type": "code",
   "execution_count": null,
   "metadata": {},
   "outputs": [],
   "source": [
    "print(\"Best: %f using %s\" % (grid_result.best_score_, grid_result.best_params_))\n",
    "means = grid_result.cv_results_['mean_test_score']\n",
    "stds = grid_result.cv_results_['std_test_score']\n",
    "params = grid_result.cv_results_['params']\n",
    "for mean, stdev, param in zip(means, stds, params):\n",
    "    print(\"%f (%f) with: %r\" % (mean, stdev, param))"
   ]
  },
  {
   "cell_type": "code",
   "execution_count": null,
   "metadata": {},
   "outputs": [],
   "source": []
  }
 ],
 "metadata": {
  "kernelspec": {
   "display_name": "Python 3",
   "language": "python",
   "name": "python3"
  },
  "language_info": {
   "codemirror_mode": {
    "name": "ipython",
    "version": 3
   },
   "file_extension": ".py",
   "mimetype": "text/x-python",
   "name": "python",
   "nbconvert_exporter": "python",
   "pygments_lexer": "ipython3",
   "version": "3.6.3rc1"
  }
 },
 "nbformat": 4,
 "nbformat_minor": 2
}
