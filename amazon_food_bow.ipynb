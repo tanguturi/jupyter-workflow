{
 "cells": [
  {
   "cell_type": "code",
   "execution_count": 2,
   "metadata": {},
   "outputs": [
    {
     "name": "stderr",
     "output_type": "stream",
     "text": [
      "C:\\Users\\admin\\AppData\\Local\\Programs\\Python\\Python36\\Lib\\site-packages\\gensim\\utils.py:1197: UserWarning: detected Windows; aliasing chunkize to chunkize_serial\n",
      "  warnings.warn(\"detected Windows; aliasing chunkize to chunkize_serial\")\n"
     ]
    }
   ],
   "source": [
    "import pandas as pd\n",
    "import numpy as np\n",
    "from sklearn.model_selection import train_test_split,cross_val_score\n",
    "import matplotlib.pyplot as plt\n",
    "from sklearn.feature_extraction.text import CountVectorizer\n",
    "import gensim\n",
    "from gensim.models import Word2Vec\n",
    "from gensim.models import KeyedVectors\n",
    "import pdb\n",
    "import re\n",
    "from sklearn.neighbors import KNeighborsClassifier\n",
    "import seaborn as sb\n",
    "from sklearn.naive_bayes import GaussianNB"
   ]
  },
  {
   "cell_type": "code",
   "execution_count": 2,
   "metadata": {},
   "outputs": [],
   "source": [
    "df=pd.read_csv(\".\\\\reviews.csv\")"
   ]
  },
  {
   "cell_type": "code",
   "execution_count": 4,
   "metadata": {},
   "outputs": [
    {
     "name": "stdout",
     "output_type": "stream",
     "text": [
      "(568454, 10)\n",
      "Index(['Id', 'ProductId', 'UserId', 'ProfileName', 'HelpfulnessNumerator',\n",
      "       'HelpfulnessDenominator', 'Score', 'Time', 'Summary', 'Text'],\n",
      "      dtype='object')\n"
     ]
    }
   ],
   "source": [
    "print(df.shape)\n",
    "print(df.columns)"
   ]
  },
  {
   "cell_type": "code",
   "execution_count": 5,
   "metadata": {},
   "outputs": [
    {
     "data": {
      "text/html": [
       "<div>\n",
       "<style scoped>\n",
       "    .dataframe tbody tr th:only-of-type {\n",
       "        vertical-align: middle;\n",
       "    }\n",
       "\n",
       "    .dataframe tbody tr th {\n",
       "        vertical-align: top;\n",
       "    }\n",
       "\n",
       "    .dataframe thead th {\n",
       "        text-align: right;\n",
       "    }\n",
       "</style>\n",
       "<table border=\"1\" class=\"dataframe\">\n",
       "  <thead>\n",
       "    <tr style=\"text-align: right;\">\n",
       "      <th></th>\n",
       "      <th>Id</th>\n",
       "      <th>ProductId</th>\n",
       "      <th>UserId</th>\n",
       "      <th>ProfileName</th>\n",
       "      <th>HelpfulnessNumerator</th>\n",
       "      <th>HelpfulnessDenominator</th>\n",
       "      <th>Score</th>\n",
       "      <th>Time</th>\n",
       "      <th>Summary</th>\n",
       "      <th>Text</th>\n",
       "    </tr>\n",
       "  </thead>\n",
       "  <tbody>\n",
       "    <tr>\n",
       "      <th>0</th>\n",
       "      <td>1</td>\n",
       "      <td>B001E4KFG0</td>\n",
       "      <td>A3SGXH7AUHU8GW</td>\n",
       "      <td>delmartian</td>\n",
       "      <td>1</td>\n",
       "      <td>1</td>\n",
       "      <td>5</td>\n",
       "      <td>1303862400</td>\n",
       "      <td>Good Quality Dog Food</td>\n",
       "      <td>I have bought several of the Vitality canned d...</td>\n",
       "    </tr>\n",
       "  </tbody>\n",
       "</table>\n",
       "</div>"
      ],
      "text/plain": [
       "   Id   ProductId          UserId ProfileName  HelpfulnessNumerator  \\\n",
       "0   1  B001E4KFG0  A3SGXH7AUHU8GW  delmartian                     1   \n",
       "\n",
       "   HelpfulnessDenominator  Score        Time                Summary  \\\n",
       "0                       1      5  1303862400  Good Quality Dog Food   \n",
       "\n",
       "                                                Text  \n",
       "0  I have bought several of the Vitality canned d...  "
      ]
     },
     "execution_count": 5,
     "metadata": {},
     "output_type": "execute_result"
    }
   ],
   "source": [
    "df.head(1)"
   ]
  },
  {
   "cell_type": "code",
   "execution_count": 6,
   "metadata": {},
   "outputs": [
    {
     "name": "stdout",
     "output_type": "stream",
     "text": [
      "(568454, 10)\n"
     ]
    },
    {
     "data": {
      "text/plain": [
       "(525771, 10)"
      ]
     },
     "execution_count": 6,
     "metadata": {},
     "output_type": "execute_result"
    }
   ],
   "source": [
    "print(df.shape)\n",
    "df.dropna(inplace=True)\n",
    "df=df[df.Score != 3]\n",
    "positive_or_negative=lambda a: \"positive\" if ((type(a)== type(2)) and (a > 3)) else \"negative\"\n",
    "df['Score']=df['Score'].map(positive_or_negative)\n",
    "df= df[df.HelpfulnessNumerator<=df.HelpfulnessDenominator]\n",
    "df.shape"
   ]
  },
  {
   "cell_type": "code",
   "execution_count": 7,
   "metadata": {},
   "outputs": [
    {
     "name": "stdout",
     "output_type": "stream",
     "text": [
      "(364159, 10)\n"
     ]
    },
    {
     "data": {
      "text/plain": [
       "69.26190299579095"
      ]
     },
     "execution_count": 7,
     "metadata": {},
     "output_type": "execute_result"
    }
   ],
   "source": [
    "##soring data according product id\n",
    "df_sorted=df.sort_values('ProductId', axis=0, ascending=True, inplace=False, kind='quicksort', na_position='last')\n",
    "\n",
    "##deduplication of entries\n",
    "final=df_sorted.drop_duplicates(subset={\"UserId\",\"ProfileName\",\"Time\",\"Text\"}, keep='first', inplace=False)\n",
    "final=final[final.HelpfulnessNumerator<=final.HelpfulnessDenominator]\n",
    "\n",
    "\n",
    "print(final.shape)\n",
    "\n",
    "#check how much data is present, len(final['ProductId'])\n",
    "(final['ProductId'].size*1.0/df['ProductId'].size*1.0)*100"
   ]
  },
  {
   "cell_type": "code",
   "execution_count": 8,
   "metadata": {},
   "outputs": [
    {
     "data": {
      "text/plain": [
       "positive    307054\n",
       "negative     57105\n",
       "Name: Score, dtype: int64"
      ]
     },
     "execution_count": 8,
     "metadata": {},
     "output_type": "execute_result"
    }
   ],
   "source": [
    "final['Score'].value_counts()"
   ]
  },
  {
   "cell_type": "code",
   "execution_count": 9,
   "metadata": {},
   "outputs": [
    {
     "name": "stdout",
     "output_type": "stream",
     "text": [
      "************************************\n",
      "tasti\n"
     ]
    }
   ],
   "source": [
    "##text processing\n",
    "import re\n",
    "import string\n",
    "import nltk\n",
    "from nltk.corpus import stopwords\n",
    "from nltk.stem import PorterStemmer\n",
    "from nltk.stem.wordnet import WordNetLemmatizer\n",
    "\n",
    "stop = set(stopwords.words('english')) #set of stopwords\n",
    "sno = nltk.stem.SnowballStemmer('english') #initialising the snowball stemmer\n",
    "\n",
    "#print(stop)\n",
    "print('************************************')\n",
    "print(sno.stem('tasty'))"
   ]
  },
  {
   "cell_type": "code",
   "execution_count": 10,
   "metadata": {},
   "outputs": [
    {
     "name": "stdout",
     "output_type": "stream",
     "text": [
      "(364159, 10)\n"
     ]
    }
   ],
   "source": [
    "##split data\n",
    "\n",
    "df_sorted=final.sort_values('Time')\n",
    "print(df_sorted.shape)\n"
   ]
  },
  {
   "cell_type": "code",
   "execution_count": 11,
   "metadata": {},
   "outputs": [],
   "source": [
    "#Code for implementing step-by-step the checks mentioned in the pre-processing phase\n",
    "# this code takes a while to run as it needs to run on 500k sentences.\n",
    "##finding sentense vector for test\n",
    "##cleaning sentense\n",
    "##making sentenses list, each sentense list has words\n",
    "def cleanhtml(sentence): #function to clean the word of any html-tags\n",
    "    cleanr = re.compile('<.*?>')\n",
    "    cleantext = re.sub(cleanr, ' ', sentence)\n",
    "    return cleantext\n",
    "def cleanpunc(sentence): #function to clean the word of any punctuation or special characters\n",
    "    cleaned = re.sub(r'[?|!|\\'|\"|#]',r'',sentence)\n",
    "    cleaned = re.sub(r'[.|,|)|(|\\|/]',r' ',cleaned)\n",
    "    return  cleaned\n",
    "\n",
    "\n",
    "def cleaning(df):\n",
    "    print(\"no of sentenses in set %d\"%(len(df)))\n",
    "    list_sentenses=[]\n",
    "    for sent in df:\n",
    "        final_sentence=''\n",
    "        sent=cleanhtml(sent)\n",
    "        filtered_sentense=[]\n",
    "        for w in sent.split():\n",
    "            for cleaned_words in cleanpunc(w).split():\n",
    "                if (cleaned_words.isalpha()):\n",
    "                    filtered_sentense.append(cleaned_words.lower())\n",
    "            else:\n",
    "                continue \n",
    "        final_sentence=' '.join(filtered_sentense)\n",
    "        list_sentenses.append(final_sentence)\n",
    "    return list_sentenses\n"
   ]
  },
  {
   "cell_type": "code",
   "execution_count": 12,
   "metadata": {},
   "outputs": [
    {
     "name": "stdout",
     "output_type": "stream",
     "text": [
      "no of sentenses in set 364159\n"
     ]
    }
   ],
   "source": [
    "df_processed_sorted=pd.DataFrame({'label':df_sorted['Score']})\n",
    "df_processed_sorted['text']= cleaning(df_sorted['Text'])\n"
   ]
  },
  {
   "cell_type": "code",
   "execution_count": 36,
   "metadata": {},
   "outputs": [
    {
     "name": "stdout",
     "output_type": "stream",
     "text": [
      "           label                                               text\n",
      "150523  positive  this witty little book makes my son laugh at l...\n",
      "150500  positive  i can remember seeing the show when it aired o...\n"
     ]
    }
   ],
   "source": [
    "print(df_processed_sorted.head(2))"
   ]
  },
  {
   "cell_type": "code",
   "execution_count": 37,
   "metadata": {},
   "outputs": [],
   "source": [
    "##picking, processed data to file before feature extraction\n",
    "\n",
    "df_processed_sorted.to_pickle('.\\pickles\\df_processed_sorted')"
   ]
  },
  {
   "cell_type": "markdown",
   "metadata": {},
   "source": [
    "# BOW####"
   ]
  },
  {
   "cell_type": "code",
   "execution_count": 4,
   "metadata": {},
   "outputs": [
    {
     "name": "stdout",
     "output_type": "stream",
     "text": [
      "           label                                               text\n",
      "150523  positive  this witty little book makes my son laugh at l...\n",
      "150500  positive  i can remember seeing the show when it aired o...\n"
     ]
    },
    {
     "data": {
      "text/plain": [
       "(364159, 2)"
      ]
     },
     "execution_count": 4,
     "metadata": {},
     "output_type": "execute_result"
    }
   ],
   "source": [
    "##getting data from pickle\n",
    "df_processed_sorted=pd.read_pickle('.\\pickles\\df_processed_sorted')\n",
    "print(df_processed_sorted.head(2))\n",
    "df_processed_sorted.shape"
   ]
  },
  {
   "cell_type": "code",
   "execution_count": 5,
   "metadata": {},
   "outputs": [
    {
     "name": "stdout",
     "output_type": "stream",
     "text": [
      "254911\n",
      "(254911, 2) (109248, 2)\n",
      "after sampling train and test sizes (2549, 2) (1092, 2)\n"
     ]
    }
   ],
   "source": [
    "size=int(df_processed_sorted.shape[0]*0.7)\n",
    "print(size)\n",
    "df_train=df_processed_sorted.iloc[:size,:]\n",
    "df_test=df_processed_sorted.iloc[size:,:]\n",
    "print(df_train.shape,df_test.shape)\n",
    "df_train= df_train.sample(frac=0.01)\n",
    "df_test= df_test.sample(frac=0.01)\n",
    "print(\"after sampling train and test sizes\",df_train.shape,df_test.shape)"
   ]
  },
  {
   "cell_type": "code",
   "execution_count": null,
   "metadata": {},
   "outputs": [],
   "source": [
    "# Verifying balanced data set or not"
   ]
  },
  {
   "cell_type": "code",
   "execution_count": 8,
   "metadata": {},
   "outputs": [
    {
     "data": {
      "text/plain": [
       "positive    2168\n",
       "negative     381\n",
       "Name: label, dtype: int64"
      ]
     },
     "execution_count": 8,
     "metadata": {},
     "output_type": "execute_result"
    }
   ],
   "source": [
    "df_train.head(1)\n",
    "y_train=df_train['label']\n",
    "y_test=df_test['label']\n",
    "#print(y_train.value_counts)\n",
    "y_train.value_counts()\n"
   ]
  },
  {
   "cell_type": "code",
   "execution_count": 9,
   "metadata": {},
   "outputs": [
    {
     "name": "stdout",
     "output_type": "stream",
     "text": [
      "<class 'scipy.sparse.csr.csr_matrix'>\n",
      "(2549, 162997) (1092, 162997)\n"
     ]
    }
   ],
   "source": [
    "#from sklearn.feature_extraction.text import CountVectorizer\n",
    "\n",
    "bow=CountVectorizer(stop_words=\"english\", ngram_range=(1,3))\n",
    "bow_train=bow.fit_transform(df_train['text'])\n",
    "bow_test=bow.transform(df_test['text'])\n",
    "\n",
    "\n",
    "print(type(bow_train))\n",
    "print(bow_train.shape,bow_test.shape)"
   ]
  },
  {
   "cell_type": "code",
   "execution_count": 23,
   "metadata": {},
   "outputs": [
    {
     "data": {
      "text/plain": [
       "'\\nfrom scipy import sparse\\n\\nsparse.save_npz(\"bow_sparse_train.npz\", bow_train)\\nbow_train_loaded = sparse.load_npz(\"bow_sparse_train.npz\")\\nprint(type(bow_train_loaded))\\nprint(bow_train_loaded.shape)\\n\\nsparse.save_npz(\"bow_sparse_test.npz\", bow_test)\\nbow_test_loaded = sparse.load_npz(\"bow_sparse_test.npz\")\\nprint(type(bow_test_loaded))\\nprint(bow_test_loaded.shape)\\n'"
      ]
     },
     "execution_count": 23,
     "metadata": {},
     "output_type": "execute_result"
    }
   ],
   "source": [
    "'''\n",
    "from scipy import sparse\n",
    "\n",
    "sparse.save_npz(\"bow_sparse_train.npz\", bow_train)\n",
    "bow_train_loaded = sparse.load_npz(\"bow_sparse_train.npz\")\n",
    "print(type(bow_train_loaded))\n",
    "print(bow_train_loaded.shape)\n",
    "\n",
    "sparse.save_npz(\"bow_sparse_test.npz\", bow_test)\n",
    "bow_test_loaded = sparse.load_npz(\"bow_sparse_test.npz\")\n",
    "print(type(bow_test_loaded))\n",
    "print(bow_test_loaded.shape)\n",
    "'''"
   ]
  },
  {
   "cell_type": "code",
   "execution_count": 10,
   "metadata": {},
   "outputs": [],
   "source": [
    "##getting k value using k fold\n",
    "import matplotlib.pyplot as plt\n",
    "\n",
    "neighbours=list(range(1,50,2))\n",
    "\n",
    "cv_scores=[]\n",
    "for k in neighbours:\n",
    "    knn=KNeighborsClassifier(n_neighbors=k)\n",
    "    scores=cross_val_score(knn,bow_train,y_train,cv=10)\n",
    "    #print(scores)\n",
    "    cv_scores.append(scores.mean())\n",
    "MSE= [1-i for i in cv_scores]"
   ]
  },
  {
   "cell_type": "code",
   "execution_count": 28,
   "metadata": {},
   "outputs": [
    {
     "name": "stdout",
     "output_type": "stream",
     "text": [
      "[0.28943822853944723, 0.1620117700131234, 0.1545622129265093, 0.15613240842596876, 0.1545668326385672, 0.15456837656322375, 0.154174675775822, 0.154174675775822, 0.154174675775822, 0.154174675775822, 0.154174675775822, 0.154174675775822, 0.154174675775822, 0.154174675775822, 0.154174675775822, 0.154174675775822, 0.154174675775822, 0.154174675775822, 0.154174675775822, 0.154174675775822, 0.154174675775822, 0.154174675775822, 0.154174675775822, 0.154174675775822, 0.154174675775822]\n"
     ]
    }
   ],
   "source": [
    "print(MSE)"
   ]
  },
  {
   "cell_type": "code",
   "execution_count": 30,
   "metadata": {},
   "outputs": [
    {
     "data": {
      "image/png": "[encoded data removed]",
      "text/plain": [
       "<Figure size 432x288 with 2 Axes>"
      ]
     },
     "metadata": {},
     "output_type": "display_data"
    }
   ],
   "source": [
    "plt.figure(1)\n",
    "plt.subplot(1,2,1)\n",
    "plt.plot(neighbours,cv_scores)\n",
    "plt.subplot(1,2,2)\n",
    "plt.plot(neighbours,MSE)\n",
    "plt.grid()\n",
    "plt.show()\n"
   ]
  },
  {
   "cell_type": "code",
   "execution_count": 11,
   "metadata": {},
   "outputs": [
    {
     "name": "stdout",
     "output_type": "stream",
     "text": [
      "[0.18909884253898412, 0.1628134890767331, 0.15417678661031342, 0.1498615171954608, 0.14946936033271574, 0.14946936033271574, 0.14946936033271574, 0.14946936033271574, 0.14946936033271574, 0.14946936033271574, 0.14946936033271574, 0.14946936033271574, 0.14946936033271574, 0.14946936033271574, 0.14946936033271574, 0.14946936033271574, 0.14946936033271574, 0.14946936033271574, 0.14946936033271574, 0.14946936033271574, 0.14946936033271574, 0.14946936033271574, 0.14946936033271574, 0.14946936033271574, 0.14946936033271574]\n",
      "minimum MSE value 0.14946936033271574\n",
      "optimal k value is.. 9\n"
     ]
    }
   ],
   "source": [
    "#min(MSE)\n",
    "print(MSE)\n",
    "print(\"minimum MSE value\",min(MSE))\n",
    "ind=MSE.index(min(MSE))\n",
    "optimal_k=neighbours[ind]\n",
    "print(\"optimal k value is..\",optimal_k)"
   ]
  },
  {
   "cell_type": "markdown",
   "metadata": {},
   "source": [
    "# training with KNN"
   ]
  },
  {
   "cell_type": "code",
   "execution_count": 12,
   "metadata": {},
   "outputs": [
    {
     "name": "stdout",
     "output_type": "stream",
     "text": [
      "(2549, 162997) (2549,) (1092, 162997) (1092,)\n",
      "the accuracy of KNN on BOW data is 0.828755\n"
     ]
    }
   ],
   "source": [
    "from sklearn.metrics import accuracy_score,confusion_matrix,precision_score,precision_recall_curve\n",
    "print(bow_train.shape,y_train.shape,bow_test.shape,y_test.shape)\n",
    "knn=KNeighborsClassifier(n_neighbors=optimal_k)\n",
    "knn.fit(bow_train,y_train)\n",
    "pred=knn.predict(bow_test)\n",
    "accuracy=accuracy_score(y_test,pred)\n",
    "print(\"the accuracy of KNN on BOW data is %f\"%(accuracy) )"
   ]
  },
  {
   "cell_type": "markdown",
   "metadata": {},
   "source": [
    "# training with kd tree"
   ]
  },
  {
   "cell_type": "code",
   "execution_count": 13,
   "metadata": {},
   "outputs": [
    {
     "name": "stdout",
     "output_type": "stream",
     "text": [
      "{'n_neighbors': 9}\n"
     ]
    }
   ],
   "source": [
    "##find optimal k for kdtree, using gridSerachCV\n",
    "from sklearn.model_selection import GridSearchCV\n",
    "kdtree_model=KNeighborsClassifier(n_neighbors=optimal_k)\n",
    "neighbours=list(range(1,50,2))\n",
    "param_grid = {'n_neighbors':neighbours}\n",
    "grid = GridSearchCV(kdtree_model, param_grid,cv=10,scoring = 'accuracy')\n",
    "\n",
    "grid.fit(bow_train,y_train)\n",
    "print(grid.best_params_)\n",
    "\n",
    "\n"
   ]
  },
  {
   "cell_type": "code",
   "execution_count": 14,
   "metadata": {},
   "outputs": [
    {
     "data": {
      "text/plain": [
       "9"
      ]
     },
     "execution_count": 14,
     "metadata": {},
     "output_type": "execute_result"
    }
   ],
   "source": [
    "optimal_k=grid.best_params_['n_neighbors']\n",
    "optimal_k"
   ]
  },
  {
   "cell_type": "code",
   "execution_count": 15,
   "metadata": {},
   "outputs": [
    {
     "name": "stdout",
     "output_type": "stream",
     "text": [
      "the accuracy of KNN on BOW data is 0.828755\n"
     ]
    },
    {
     "name": "stderr",
     "output_type": "stream",
     "text": [
      "C:\\Users\\admin\\AppData\\Local\\Programs\\Python\\Python36\\Lib\\site-packages\\sklearn\\neighbors\\base.py:212: UserWarning: cannot use tree with sparse input: using brute force\n",
      "  warnings.warn(\"cannot use tree with sparse input: \"\n"
     ]
    }
   ],
   "source": [
    "knn=KNeighborsClassifier(n_neighbors=optimal_k,algorithm='kd_tree')\n",
    "knn.fit(bow_train,y_train)\n",
    "pred=knn.predict(bow_test)\n",
    "accuracy=accuracy_score(y_test,pred)\n",
    "print(\"the accuracy of KNN on BOW data is %f\"%(accuracy) )"
   ]
  },
  {
   "cell_type": "code",
   "execution_count": 56,
   "metadata": {},
   "outputs": [
    {
     "name": "stdout",
     "output_type": "stream",
     "text": [
      "the accuracy of KNN on BOW data is 0.830586\n"
     ]
    },
    {
     "name": "stderr",
     "output_type": "stream",
     "text": [
      "C:\\Users\\admin\\AppData\\Local\\Programs\\Python\\Python36\\Lib\\site-packages\\sklearn\\neighbors\\base.py:212: UserWarning: cannot use tree with sparse input: using brute force\n",
      "  warnings.warn(\"cannot use tree with sparse input: \"\n"
     ]
    }
   ],
   "source": [
    "knn=KNeighborsClassifier(n_neighbors=optimal_k,algorithm='ball_tree')\n",
    "knn.fit(bow_train,y_train)\n",
    "pred=knn.predict(bow_test)\n",
    "accuracy=accuracy_score(y_test,pred)\n",
    "print(\"the accuracy of KNN on BOW data is %f\"%(accuracy) )"
   ]
  },
  {
   "cell_type": "code",
   "execution_count": 57,
   "metadata": {},
   "outputs": [
    {
     "name": "stdout",
     "output_type": "stream",
     "text": [
      "the accuracy of KNN on BOW data is 0.830586\n"
     ]
    }
   ],
   "source": [
    "knn=KNeighborsClassifier(n_neighbors=optimal_k,algorithm='auto')\n",
    "knn.fit(bow_train,y_train)\n",
    "pred=knn.predict(bow_test)\n",
    "accuracy=accuracy_score(y_test,pred)\n",
    "print(\"the accuracy of KNN on BOW data is %f\"%(accuracy) )"
   ]
  },
  {
   "cell_type": "code",
   "execution_count": 16,
   "metadata": {},
   "outputs": [
    {
     "data": {
      "text/plain": [
       "array([[  0, 187],\n",
       "       [  0, 905]], dtype=int64)"
      ]
     },
     "execution_count": 16,
     "metadata": {},
     "output_type": "execute_result"
    }
   ],
   "source": [
    "##printing performace metrics\n",
    "from sklearn.metrics import confusion_matrix\n",
    "confusion_matrix(y_test,pred)\n"
   ]
  },
  {
   "cell_type": "code",
   "execution_count": 28,
   "metadata": {},
   "outputs": [
    {
     "data": {
      "image/png": "[encoded data removed]",
      "text/plain": [
       "<Figure size 432x288 with 1 Axes>"
      ]
     },
     "metadata": {},
     "output_type": "display_data"
    }
   ],
   "source": [
    "#print(df_train.label.head(1))\n",
    "\n",
    "df_train.label.value_counts()\n",
    "plt.figure(1)\n",
    "plt.hist(df_train.label.tolist())\n",
    "plt.show()\n"
   ]
  },
  {
   "cell_type": "markdown",
   "metadata": {},
   "source": [
    "# Naive bayes"
   ]
  },
  {
   "cell_type": "code",
   "execution_count": 33,
   "metadata": {},
   "outputs": [
    {
     "name": "stdout",
     "output_type": "stream",
     "text": [
      "{'alpha': 10}\n"
     ]
    }
   ],
   "source": [
    "from sklearn.naive_bayes import BernoulliNB\n",
    "neighbours=list(range(1,50,2))\n",
    "param_grid = {'alpha':[0.00001, 0.0001, 0.001, 0.1, 1, 10, 100,1000]}\n",
    "grid = GridSearchCV(BernoulliNB(), param_grid,cv=10,scoring = 'accuracy')\n",
    "grid.fit(bow_train,y_train)\n",
    "print(grid.best_params_)"
   ]
  },
  {
   "cell_type": "code",
   "execution_count": 111,
   "metadata": {},
   "outputs": [
    {
     "name": "stdout",
     "output_type": "stream",
     "text": [
      "the accuracy of naivey bayes on BOW data is 0.828755\n"
     ]
    }
   ],
   "source": [
    "from sklearn.naive_bayes import MultinomialNB\n",
    "\n",
    "#optimal_alpha=grid.best_params_['alpha']\n",
    "BernouliNB_model=BernoulliNB(alpha=10)\n",
    "#MultinominalNB_model=MultinomialNB(alpha=optimal_alpha)\n",
    "BernouliNB_model.fit(bow_train,df_train.label)\n",
    "pred=BernouliNB_model.predict(bow_test)\n",
    "accuracy=accuracy_score(y_test,pred)\n",
    "print(\"the accuracy of naivey bayes on BOW data is %f\"%(accuracy) )"
   ]
  },
  {
   "cell_type": "markdown",
   "metadata": {},
   "source": [
    "# linear SVC"
   ]
  },
  {
   "cell_type": "code",
   "execution_count": 75,
   "metadata": {},
   "outputs": [
    {
     "name": "stdout",
     "output_type": "stream",
     "text": [
      "{'C': 0.01}\n"
     ]
    }
   ],
   "source": [
    "##using linear svc\n",
    "from sklearn.linear_model import SGDClassifier\n",
    "from sklearn.svm import SVC,LinearSVC\n",
    "C = [10 ** x for x in range(-5, 1)]\n",
    "param_grid = {'C':alpha}\n",
    "grid = GridSearchCV(LinearSVC(class_weight='balanced'), param_grid,cv=10,scoring = 'accuracy')\n",
    "grid.fit(bow_train,y_train)\n",
    "print(grid.best_params_)\n",
    "best_C=grid.best_params_['C']"
   ]
  },
  {
   "cell_type": "code",
   "execution_count": 88,
   "metadata": {},
   "outputs": [
    {
     "name": "stdout",
     "output_type": "stream",
     "text": [
      "['positive' 'positive' 'positive' ... 'positive' 'negative' 'positive']\n",
      "the accuracy of naivey bayes on BOW data is 0.828755\n"
     ]
    }
   ],
   "source": [
    "svc= LinearSVC(C=best_C,random_state=42,class_weight='balanced')\n",
    "svc.fit(bow_train,df_train.label)\n",
    "pred=svc.predict(bow_test)\n",
    "print(pred)\n",
    "accuracy_score(y_test,pred)\n",
    "print(\"the accuracy of linear svc on BOW data is %f\"%(accuracy) )"
   ]
  },
  {
   "cell_type": "code",
   "execution_count": 1,
   "metadata": {},
   "outputs": [
    {
     "ename": "NameError",
     "evalue": "name 'confusion_matrix' is not defined",
     "output_type": "error",
     "traceback": [
      "\u001b[1;31m---------------------------------------------------------------------------\u001b[0m",
      "\u001b[1;31mNameError\u001b[0m                                 Traceback (most recent call last)",
      "\u001b[1;32m<ipython-input-1-c7768593ae95>\u001b[0m in \u001b[0;36m<module>\u001b[1;34m()\u001b[0m\n\u001b[1;32m----> 1\u001b[1;33m \u001b[0mprint\u001b[0m\u001b[1;33m(\u001b[0m\u001b[0mconfusion_matrix\u001b[0m\u001b[1;33m(\u001b[0m\u001b[0my_test\u001b[0m\u001b[1;33m,\u001b[0m\u001b[0mpred\u001b[0m\u001b[1;33m)\u001b[0m\u001b[1;33m)\u001b[0m\u001b[1;33m\u001b[0m\u001b[0m\n\u001b[0m",
      "\u001b[1;31mNameError\u001b[0m: name 'confusion_matrix' is not defined"
     ]
    }
   ],
   "source": [
    "print(confusion_matrix(y_test,pred))"
   ]
  },
  {
   "cell_type": "markdown",
   "metadata": {},
   "source": [
    "# logistic regression"
   ]
  },
  {
   "cell_type": "code",
   "execution_count": 93,
   "metadata": {},
   "outputs": [
    {
     "name": "stdout",
     "output_type": "stream",
     "text": [
      "{'C': 0.1}\n"
     ]
    }
   ],
   "source": [
    "####logistic regression\n",
    "from sklearn.linear_model import LogisticRegression\n",
    "C = [10 ** x for x in range(-6, 3)]\n",
    "param_grid = {'C':alpha}\n",
    "grid = GridSearchCV(LogisticRegression(class_weight='balanced'), param_grid,cv=10,scoring = 'accuracy')\n",
    "grid.fit(bow_train,y_train)\n",
    "print(grid.best_params_)\n",
    "best_C=grid.best_params_['C']"
   ]
  },
  {
   "cell_type": "code",
   "execution_count": 94,
   "metadata": {},
   "outputs": [
    {
     "name": "stdout",
     "output_type": "stream",
     "text": [
      "['positive' 'positive' 'positive' ... 'positive' 'negative' 'positive']\n",
      "the accuracy of logistic regression on BOW data is 0.828755\n"
     ]
    }
   ],
   "source": [
    "svc= LogisticRegression(C=best_C,random_state=42,class_weight='balanced')\n",
    "svc.fit(bow_train,df_train.label)\n",
    "pred=svc.predict(bow_test)\n",
    "print(pred)\n",
    "accuracy_score(y_test,pred)\n",
    "print(\"the accuracy of logistic regression on BOW data is %f\"%(accuracy) )"
   ]
  },
  {
   "cell_type": "code",
   "execution_count": 95,
   "metadata": {},
   "outputs": [
    {
     "name": "stdout",
     "output_type": "stream",
     "text": [
      "[[103  84]\n",
      " [ 42 863]]\n"
     ]
    }
   ],
   "source": [
    "print(confusion_matrix(y_test,pred))"
   ]
  },
  {
   "cell_type": "code",
   "execution_count": null,
   "metadata": {},
   "outputs": [],
   "source": [
    "##RBF SVC"
   ]
  },
  {
   "cell_type": "code",
   "execution_count": 108,
   "metadata": {},
   "outputs": [
    {
     "name": "stdout",
     "output_type": "stream",
     "text": [
      "{'gamma': 0.01, 'C': 0.0001}\n"
     ]
    }
   ],
   "source": [
    "#http://scikit-learn.org/stable/auto_examples/svm/plot_rbf_parameters.html\n",
    "from sklearn.svm import SVC\n",
    "from sklearn.model_selection import RandomizedSearchCV\n",
    "#C_range = np.logspace(-2, 10, 13)\n",
    "#gamma_range = np.logspace(-9, 3, 13)\n",
    "param_grid={'C':C_range,'gamma':gamma_range}\n",
    "C_range = [10 ** x for x in range(-2, 2)]\n",
    "gamma_range = [10 ** x for x in range(-2, 2)]\n",
    "grid = RandomizedSearchCV(SVC(class_weight='balanced'), param_grid,cv=10,scoring = 'accuracy')\n",
    "grid.fit(bow_train,y_train)\n",
    "print(grid.best_params_)\n",
    "\n"
   ]
  },
  {
   "cell_type": "code",
   "execution_count": 109,
   "metadata": {},
   "outputs": [
    {
     "name": "stdout",
     "output_type": "stream",
     "text": [
      "['positive' 'positive' 'positive' ... 'positive' 'positive' 'positive']\n",
      "the accuracy of RBF svc on BOW data is 0.828755\n",
      "[[ 43 144]\n",
      " [145 760]]\n"
     ]
    }
   ],
   "source": [
    "C_best=grid.best_params_['C']\n",
    "gamma_best=grid.best_params_['gamma']\n",
    "svc= SVC(C=best_C,gamma=gamma_best,random_state=42,class_weight='balanced')\n",
    "svc.fit(bow_train,df_train.label)\n",
    "pred=svc.predict(bow_test)\n",
    "print(pred)\n",
    "accuracy_score(y_test,pred)\n",
    "print(\"the accuracy of RBF svc on BOW data is %f\"%(accuracy) )\n",
    "print(confusion_matrix(y_test,pred))"
   ]
  },
  {
   "cell_type": "markdown",
   "metadata": {},
   "source": [
    "# Decision Tree Classifier"
   ]
  }
 ],
 "metadata": {
  "kernelspec": {
   "display_name": "Python 3",
   "language": "python",
   "name": "python3"
  },
  "language_info": {
   "codemirror_mode": {
    "name": "ipython",
    "version": 3
   },
   "file_extension": ".py",
   "mimetype": "text/x-python",
   "name": "python",
   "nbconvert_exporter": "python",
   "pygments_lexer": "ipython3",
   "version": "3.6.3rc1"
  }
 },
 "nbformat": 4,
 "nbformat_minor": 2
}
